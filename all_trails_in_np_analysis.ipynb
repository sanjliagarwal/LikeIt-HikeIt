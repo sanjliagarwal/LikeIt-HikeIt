{
  "cells": [
    {
      "cell_type": "markdown",
      "metadata": {
        "id": "CE9MV9j0P6GW"
      },
      "source": [
        "# **Executive Summary**"
      ],
      "id": "CE9MV9j0P6GW"
    },
    {
      "cell_type": "markdown",
      "metadata": {
        "id": "GWIdlxsEQBJg"
      },
      "source": [
        "The objective of this project is to build a recommendation engine for hiking trails to a user based on their location, trail type, difficulty level, distance, etc., along with hikes they have taken in the past (to draw out similarities to).\n",
        "\n",
        "www.alltrails.com is a detailed source to look up trail information for any trail under the sun. It's also a great place to curate trails and track trails one takes. Personalization based on user's choices is not present in the free version.\n",
        "\n",
        "We wish to provide through our recommendation engine a finer level of granularity in the suggested trail, taking into account user's history, as well as other filters. We are also on the lookout for interesting trends around a place or trail."
      ],
      "id": "GWIdlxsEQBJg"
    },
    {
      "cell_type": "markdown",
      "metadata": {
        "id": "46nu1W9F9Wc3"
      },
      "source": [
        "# **Data sources**"
      ],
      "id": "46nu1W9F9Wc3"
    },
    {
      "cell_type": "markdown",
      "metadata": {
        "id": "Wcos-MFT_hGr"
      },
      "source": [
        "We wanted to obtain trail data for hiking trails throughout the United States. For this, we began with scraping data from www.alltrails.com.\n",
        "However, the website doesn't allow API requests/ Selenium-based scraping at present. Due to this issue, we used a dataset for trail data from www.kaggle.com/planejane/national-park-trails.\n",
        "\n",
        "We have enhanced the data to include campground and reviews based on geo-location, using Google API's. We used the \"Place Search\" API, specifically the \"Nearby Search\" endpoint, to find campgrounds in 3 miles within the geo-location of the trails in our data set. Then we used the \"Place Details\" API to obtain relevant information about the campgrounds found in the previous search. We repeated this process multiple times to obtain the dataset used in this project. \n",
        "\n",
        "Additionally, we integrated weather data into the dataset using Weather API.\n",
        "\n",
        "\n",
        "\n"
      ],
      "id": "Wcos-MFT_hGr"
    },
    {
      "cell_type": "markdown",
      "metadata": {
        "id": "w41E_wAG9uKM"
      },
      "source": [
        "# **Data Limitations**"
      ],
      "id": "w41E_wAG9uKM"
    },
    {
      "cell_type": "markdown",
      "metadata": {
        "id": "Vpq54jo2ZQBg"
      },
      "source": [
        "Since the primary dataset is from Kaggle, trail data will not be updated real-time, although reviews and weather are real-time data points. As a future enhancement, we have to find a way to collate alltrails data to be updated with current trail information real-time before making recommendations to a user."
      ],
      "id": "Vpq54jo2ZQBg"
    },
    {
      "cell_type": "markdown",
      "metadata": {
        "id": "TA7fEeN0_Z96"
      },
      "source": [
        "# **Data Components Description**"
      ],
      "id": "TA7fEeN0_Z96"
    },
    {
      "cell_type": "markdown",
      "metadata": {
        "id": "hK5KPN9d_peb"
      },
      "source": [
        "\n",
        "\n",
        "We will be reviewing the data we have gotten from www.alltrails.com and enhancing the dataset by adding features to it."
      ],
      "id": "hK5KPN9d_peb"
    },
    {
      "cell_type": "code",
      "execution_count": null,
      "metadata": {
        "colab": {
          "base_uri": "https://localhost:8080/"
        },
        "id": "yMtJaxBNc2gb",
        "outputId": "1943c6b3-63ba-4c53-c29c-ec924ebf6f8e"
      },
      "outputs": [
        {
          "output_type": "stream",
          "name": "stdout",
          "text": [
            "Collecting gmaps\n",
            "  Downloading gmaps-0.9.0.tar.gz (1.1 MB)\n",
            "\u001b[?25l\r\u001b[K     |▎                               | 10 kB 23.7 MB/s eta 0:00:01\r\u001b[K     |▋                               | 20 kB 29.3 MB/s eta 0:00:01\r\u001b[K     |█                               | 30 kB 14.0 MB/s eta 0:00:01\r\u001b[K     |█▎                              | 40 kB 10.4 MB/s eta 0:00:01\r\u001b[K     |█▌                              | 51 kB 6.1 MB/s eta 0:00:01\r\u001b[K     |█▉                              | 61 kB 7.2 MB/s eta 0:00:01\r\u001b[K     |██▏                             | 71 kB 7.5 MB/s eta 0:00:01\r\u001b[K     |██▌                             | 81 kB 6.8 MB/s eta 0:00:01\r\u001b[K     |██▉                             | 92 kB 7.5 MB/s eta 0:00:01\r\u001b[K     |███                             | 102 kB 6.7 MB/s eta 0:00:01\r\u001b[K     |███▍                            | 112 kB 6.7 MB/s eta 0:00:01\r\u001b[K     |███▊                            | 122 kB 6.7 MB/s eta 0:00:01\r\u001b[K     |████                            | 133 kB 6.7 MB/s eta 0:00:01\r\u001b[K     |████▍                           | 143 kB 6.7 MB/s eta 0:00:01\r\u001b[K     |████▋                           | 153 kB 6.7 MB/s eta 0:00:01\r\u001b[K     |█████                           | 163 kB 6.7 MB/s eta 0:00:01\r\u001b[K     |█████▎                          | 174 kB 6.7 MB/s eta 0:00:01\r\u001b[K     |█████▋                          | 184 kB 6.7 MB/s eta 0:00:01\r\u001b[K     |██████                          | 194 kB 6.7 MB/s eta 0:00:01\r\u001b[K     |██████▏                         | 204 kB 6.7 MB/s eta 0:00:01\r\u001b[K     |██████▌                         | 215 kB 6.7 MB/s eta 0:00:01\r\u001b[K     |██████▉                         | 225 kB 6.7 MB/s eta 0:00:01\r\u001b[K     |███████▏                        | 235 kB 6.7 MB/s eta 0:00:01\r\u001b[K     |███████▌                        | 245 kB 6.7 MB/s eta 0:00:01\r\u001b[K     |███████▊                        | 256 kB 6.7 MB/s eta 0:00:01\r\u001b[K     |████████                        | 266 kB 6.7 MB/s eta 0:00:01\r\u001b[K     |████████▍                       | 276 kB 6.7 MB/s eta 0:00:01\r\u001b[K     |████████▊                       | 286 kB 6.7 MB/s eta 0:00:01\r\u001b[K     |█████████                       | 296 kB 6.7 MB/s eta 0:00:01\r\u001b[K     |█████████▎                      | 307 kB 6.7 MB/s eta 0:00:01\r\u001b[K     |█████████▋                      | 317 kB 6.7 MB/s eta 0:00:01\r\u001b[K     |██████████                      | 327 kB 6.7 MB/s eta 0:00:01\r\u001b[K     |██████████▎                     | 337 kB 6.7 MB/s eta 0:00:01\r\u001b[K     |██████████▋                     | 348 kB 6.7 MB/s eta 0:00:01\r\u001b[K     |██████████▉                     | 358 kB 6.7 MB/s eta 0:00:01\r\u001b[K     |███████████▏                    | 368 kB 6.7 MB/s eta 0:00:01\r\u001b[K     |███████████▌                    | 378 kB 6.7 MB/s eta 0:00:01\r\u001b[K     |███████████▉                    | 389 kB 6.7 MB/s eta 0:00:01\r\u001b[K     |████████████▏                   | 399 kB 6.7 MB/s eta 0:00:01\r\u001b[K     |████████████▍                   | 409 kB 6.7 MB/s eta 0:00:01\r\u001b[K     |████████████▊                   | 419 kB 6.7 MB/s eta 0:00:01\r\u001b[K     |█████████████                   | 430 kB 6.7 MB/s eta 0:00:01\r\u001b[K     |█████████████▍                  | 440 kB 6.7 MB/s eta 0:00:01\r\u001b[K     |█████████████▊                  | 450 kB 6.7 MB/s eta 0:00:01\r\u001b[K     |██████████████                  | 460 kB 6.7 MB/s eta 0:00:01\r\u001b[K     |██████████████▎                 | 471 kB 6.7 MB/s eta 0:00:01\r\u001b[K     |██████████████▋                 | 481 kB 6.7 MB/s eta 0:00:01\r\u001b[K     |███████████████                 | 491 kB 6.7 MB/s eta 0:00:01\r\u001b[K     |███████████████▎                | 501 kB 6.7 MB/s eta 0:00:01\r\u001b[K     |███████████████▌                | 512 kB 6.7 MB/s eta 0:00:01\r\u001b[K     |███████████████▉                | 522 kB 6.7 MB/s eta 0:00:01\r\u001b[K     |████████████████▏               | 532 kB 6.7 MB/s eta 0:00:01\r\u001b[K     |████████████████▌               | 542 kB 6.7 MB/s eta 0:00:01\r\u001b[K     |████████████████▉               | 552 kB 6.7 MB/s eta 0:00:01\r\u001b[K     |█████████████████               | 563 kB 6.7 MB/s eta 0:00:01\r\u001b[K     |█████████████████▍              | 573 kB 6.7 MB/s eta 0:00:01\r\u001b[K     |█████████████████▊              | 583 kB 6.7 MB/s eta 0:00:01\r\u001b[K     |██████████████████              | 593 kB 6.7 MB/s eta 0:00:01\r\u001b[K     |██████████████████▍             | 604 kB 6.7 MB/s eta 0:00:01\r\u001b[K     |██████████████████▋             | 614 kB 6.7 MB/s eta 0:00:01\r\u001b[K     |███████████████████             | 624 kB 6.7 MB/s eta 0:00:01\r\u001b[K     |███████████████████▎            | 634 kB 6.7 MB/s eta 0:00:01\r\u001b[K     |███████████████████▋            | 645 kB 6.7 MB/s eta 0:00:01\r\u001b[K     |████████████████████            | 655 kB 6.7 MB/s eta 0:00:01\r\u001b[K     |████████████████████▏           | 665 kB 6.7 MB/s eta 0:00:01\r\u001b[K     |████████████████████▌           | 675 kB 6.7 MB/s eta 0:00:01\r\u001b[K     |████████████████████▉           | 686 kB 6.7 MB/s eta 0:00:01\r\u001b[K     |█████████████████████▏          | 696 kB 6.7 MB/s eta 0:00:01\r\u001b[K     |█████████████████████▌          | 706 kB 6.7 MB/s eta 0:00:01\r\u001b[K     |█████████████████████▊          | 716 kB 6.7 MB/s eta 0:00:01\r\u001b[K     |██████████████████████          | 727 kB 6.7 MB/s eta 0:00:01\r\u001b[K     |██████████████████████▍         | 737 kB 6.7 MB/s eta 0:00:01\r\u001b[K     |██████████████████████▊         | 747 kB 6.7 MB/s eta 0:00:01\r\u001b[K     |███████████████████████         | 757 kB 6.7 MB/s eta 0:00:01\r\u001b[K     |███████████████████████▎        | 768 kB 6.7 MB/s eta 0:00:01\r\u001b[K     |███████████████████████▋        | 778 kB 6.7 MB/s eta 0:00:01\r\u001b[K     |████████████████████████        | 788 kB 6.7 MB/s eta 0:00:01\r\u001b[K     |████████████████████████▎       | 798 kB 6.7 MB/s eta 0:00:01\r\u001b[K     |████████████████████████▋       | 808 kB 6.7 MB/s eta 0:00:01\r\u001b[K     |████████████████████████▉       | 819 kB 6.7 MB/s eta 0:00:01\r\u001b[K     |█████████████████████████▏      | 829 kB 6.7 MB/s eta 0:00:01\r\u001b[K     |█████████████████████████▌      | 839 kB 6.7 MB/s eta 0:00:01\r\u001b[K     |█████████████████████████▉      | 849 kB 6.7 MB/s eta 0:00:01\r\u001b[K     |██████████████████████████▏     | 860 kB 6.7 MB/s eta 0:00:01\r\u001b[K     |██████████████████████████▍     | 870 kB 6.7 MB/s eta 0:00:01\r\u001b[K     |██████████████████████████▊     | 880 kB 6.7 MB/s eta 0:00:01\r\u001b[K     |███████████████████████████     | 890 kB 6.7 MB/s eta 0:00:01\r\u001b[K     |███████████████████████████▍    | 901 kB 6.7 MB/s eta 0:00:01\r\u001b[K     |███████████████████████████▊    | 911 kB 6.7 MB/s eta 0:00:01\r\u001b[K     |████████████████████████████    | 921 kB 6.7 MB/s eta 0:00:01\r\u001b[K     |████████████████████████████▎   | 931 kB 6.7 MB/s eta 0:00:01\r\u001b[K     |████████████████████████████▋   | 942 kB 6.7 MB/s eta 0:00:01\r\u001b[K     |█████████████████████████████   | 952 kB 6.7 MB/s eta 0:00:01\r\u001b[K     |█████████████████████████████▎  | 962 kB 6.7 MB/s eta 0:00:01\r\u001b[K     |█████████████████████████████▌  | 972 kB 6.7 MB/s eta 0:00:01\r\u001b[K     |█████████████████████████████▉  | 983 kB 6.7 MB/s eta 0:00:01\r\u001b[K     |██████████████████████████████▏ | 993 kB 6.7 MB/s eta 0:00:01\r\u001b[K     |██████████████████████████████▌ | 1.0 MB 6.7 MB/s eta 0:00:01\r\u001b[K     |██████████████████████████████▉ | 1.0 MB 6.7 MB/s eta 0:00:01\r\u001b[K     |███████████████████████████████ | 1.0 MB 6.7 MB/s eta 0:00:01\r\u001b[K     |███████████████████████████████▍| 1.0 MB 6.7 MB/s eta 0:00:01\r\u001b[K     |███████████████████████████████▊| 1.0 MB 6.7 MB/s eta 0:00:01\r\u001b[K     |████████████████████████████████| 1.1 MB 6.7 MB/s \n",
            "\u001b[?25hRequirement already satisfied: ipython>=5.3.0 in /usr/local/lib/python3.7/dist-packages (from gmaps) (5.5.0)\n",
            "Requirement already satisfied: ipywidgets>=7.0.0 in /usr/local/lib/python3.7/dist-packages (from gmaps) (7.7.0)\n",
            "Requirement already satisfied: traitlets>=4.3.0 in /usr/local/lib/python3.7/dist-packages (from gmaps) (5.1.1)\n",
            "Collecting geojson>=2.0.0\n",
            "  Downloading geojson-2.5.0-py2.py3-none-any.whl (14 kB)\n",
            "Requirement already satisfied: six in /usr/local/lib/python3.7/dist-packages (from gmaps) (1.15.0)\n",
            "Requirement already satisfied: prompt-toolkit<2.0.0,>=1.0.4 in /usr/local/lib/python3.7/dist-packages (from ipython>=5.3.0->gmaps) (1.0.18)\n",
            "Requirement already satisfied: pexpect in /usr/local/lib/python3.7/dist-packages (from ipython>=5.3.0->gmaps) (4.8.0)\n",
            "Requirement already satisfied: decorator in /usr/local/lib/python3.7/dist-packages (from ipython>=5.3.0->gmaps) (4.4.2)\n",
            "Requirement already satisfied: pygments in /usr/local/lib/python3.7/dist-packages (from ipython>=5.3.0->gmaps) (2.6.1)\n",
            "Requirement already satisfied: pickleshare in /usr/local/lib/python3.7/dist-packages (from ipython>=5.3.0->gmaps) (0.7.5)\n",
            "Requirement already satisfied: setuptools>=18.5 in /usr/local/lib/python3.7/dist-packages (from ipython>=5.3.0->gmaps) (57.4.0)\n",
            "Requirement already satisfied: simplegeneric>0.8 in /usr/local/lib/python3.7/dist-packages (from ipython>=5.3.0->gmaps) (0.8.1)\n",
            "Requirement already satisfied: ipython-genutils~=0.2.0 in /usr/local/lib/python3.7/dist-packages (from ipywidgets>=7.0.0->gmaps) (0.2.0)\n",
            "Requirement already satisfied: nbformat>=4.2.0 in /usr/local/lib/python3.7/dist-packages (from ipywidgets>=7.0.0->gmaps) (5.2.0)\n",
            "Requirement already satisfied: ipykernel>=4.5.1 in /usr/local/lib/python3.7/dist-packages (from ipywidgets>=7.0.0->gmaps) (4.10.1)\n",
            "Requirement already satisfied: widgetsnbextension~=3.6.0 in /usr/local/lib/python3.7/dist-packages (from ipywidgets>=7.0.0->gmaps) (3.6.0)\n",
            "Requirement already satisfied: jupyterlab-widgets>=1.0.0 in /usr/local/lib/python3.7/dist-packages (from ipywidgets>=7.0.0->gmaps) (1.1.0)\n",
            "Requirement already satisfied: tornado>=4.0 in /usr/local/lib/python3.7/dist-packages (from ipykernel>=4.5.1->ipywidgets>=7.0.0->gmaps) (5.1.1)\n",
            "Requirement already satisfied: jupyter-client in /usr/local/lib/python3.7/dist-packages (from ipykernel>=4.5.1->ipywidgets>=7.0.0->gmaps) (5.3.5)\n",
            "Requirement already satisfied: jupyter-core in /usr/local/lib/python3.7/dist-packages (from nbformat>=4.2.0->ipywidgets>=7.0.0->gmaps) (4.9.2)\n",
            "Requirement already satisfied: jsonschema!=2.5.0,>=2.4 in /usr/local/lib/python3.7/dist-packages (from nbformat>=4.2.0->ipywidgets>=7.0.0->gmaps) (4.3.3)\n",
            "Requirement already satisfied: typing-extensions in /usr/local/lib/python3.7/dist-packages (from jsonschema!=2.5.0,>=2.4->nbformat>=4.2.0->ipywidgets>=7.0.0->gmaps) (3.10.0.2)\n",
            "Requirement already satisfied: importlib-metadata in /usr/local/lib/python3.7/dist-packages (from jsonschema!=2.5.0,>=2.4->nbformat>=4.2.0->ipywidgets>=7.0.0->gmaps) (4.11.3)\n",
            "Requirement already satisfied: pyrsistent!=0.17.0,!=0.17.1,!=0.17.2,>=0.14.0 in /usr/local/lib/python3.7/dist-packages (from jsonschema!=2.5.0,>=2.4->nbformat>=4.2.0->ipywidgets>=7.0.0->gmaps) (0.18.1)\n",
            "Requirement already satisfied: attrs>=17.4.0 in /usr/local/lib/python3.7/dist-packages (from jsonschema!=2.5.0,>=2.4->nbformat>=4.2.0->ipywidgets>=7.0.0->gmaps) (21.4.0)\n",
            "Requirement already satisfied: importlib-resources>=1.4.0 in /usr/local/lib/python3.7/dist-packages (from jsonschema!=2.5.0,>=2.4->nbformat>=4.2.0->ipywidgets>=7.0.0->gmaps) (5.4.0)\n",
            "Requirement already satisfied: zipp>=3.1.0 in /usr/local/lib/python3.7/dist-packages (from importlib-resources>=1.4.0->jsonschema!=2.5.0,>=2.4->nbformat>=4.2.0->ipywidgets>=7.0.0->gmaps) (3.7.0)\n",
            "Requirement already satisfied: wcwidth in /usr/local/lib/python3.7/dist-packages (from prompt-toolkit<2.0.0,>=1.0.4->ipython>=5.3.0->gmaps) (0.2.5)\n",
            "Requirement already satisfied: notebook>=4.4.1 in /usr/local/lib/python3.7/dist-packages (from widgetsnbextension~=3.6.0->ipywidgets>=7.0.0->gmaps) (5.3.1)\n",
            "Requirement already satisfied: jinja2 in /usr/local/lib/python3.7/dist-packages (from notebook>=4.4.1->widgetsnbextension~=3.6.0->ipywidgets>=7.0.0->gmaps) (2.11.3)\n",
            "Requirement already satisfied: nbconvert in /usr/local/lib/python3.7/dist-packages (from notebook>=4.4.1->widgetsnbextension~=3.6.0->ipywidgets>=7.0.0->gmaps) (5.6.1)\n",
            "Requirement already satisfied: terminado>=0.8.1 in /usr/local/lib/python3.7/dist-packages (from notebook>=4.4.1->widgetsnbextension~=3.6.0->ipywidgets>=7.0.0->gmaps) (0.13.3)\n",
            "Requirement already satisfied: Send2Trash in /usr/local/lib/python3.7/dist-packages (from notebook>=4.4.1->widgetsnbextension~=3.6.0->ipywidgets>=7.0.0->gmaps) (1.8.0)\n",
            "Requirement already satisfied: python-dateutil>=2.1 in /usr/local/lib/python3.7/dist-packages (from jupyter-client->ipykernel>=4.5.1->ipywidgets>=7.0.0->gmaps) (2.8.2)\n",
            "Requirement already satisfied: pyzmq>=13 in /usr/local/lib/python3.7/dist-packages (from jupyter-client->ipykernel>=4.5.1->ipywidgets>=7.0.0->gmaps) (22.3.0)\n",
            "Requirement already satisfied: ptyprocess in /usr/local/lib/python3.7/dist-packages (from terminado>=0.8.1->notebook>=4.4.1->widgetsnbextension~=3.6.0->ipywidgets>=7.0.0->gmaps) (0.7.0)\n",
            "Requirement already satisfied: MarkupSafe>=0.23 in /usr/local/lib/python3.7/dist-packages (from jinja2->notebook>=4.4.1->widgetsnbextension~=3.6.0->ipywidgets>=7.0.0->gmaps) (2.0.1)\n",
            "Requirement already satisfied: entrypoints>=0.2.2 in /usr/local/lib/python3.7/dist-packages (from nbconvert->notebook>=4.4.1->widgetsnbextension~=3.6.0->ipywidgets>=7.0.0->gmaps) (0.4)\n",
            "Requirement already satisfied: defusedxml in /usr/local/lib/python3.7/dist-packages (from nbconvert->notebook>=4.4.1->widgetsnbextension~=3.6.0->ipywidgets>=7.0.0->gmaps) (0.7.1)\n",
            "Requirement already satisfied: mistune<2,>=0.8.1 in /usr/local/lib/python3.7/dist-packages (from nbconvert->notebook>=4.4.1->widgetsnbextension~=3.6.0->ipywidgets>=7.0.0->gmaps) (0.8.4)\n",
            "Requirement already satisfied: testpath in /usr/local/lib/python3.7/dist-packages (from nbconvert->notebook>=4.4.1->widgetsnbextension~=3.6.0->ipywidgets>=7.0.0->gmaps) (0.6.0)\n",
            "Requirement already satisfied: bleach in /usr/local/lib/python3.7/dist-packages (from nbconvert->notebook>=4.4.1->widgetsnbextension~=3.6.0->ipywidgets>=7.0.0->gmaps) (4.1.0)\n",
            "Requirement already satisfied: pandocfilters>=1.4.1 in /usr/local/lib/python3.7/dist-packages (from nbconvert->notebook>=4.4.1->widgetsnbextension~=3.6.0->ipywidgets>=7.0.0->gmaps) (1.5.0)\n",
            "Requirement already satisfied: packaging in /usr/local/lib/python3.7/dist-packages (from bleach->nbconvert->notebook>=4.4.1->widgetsnbextension~=3.6.0->ipywidgets>=7.0.0->gmaps) (21.3)\n",
            "Requirement already satisfied: webencodings in /usr/local/lib/python3.7/dist-packages (from bleach->nbconvert->notebook>=4.4.1->widgetsnbextension~=3.6.0->ipywidgets>=7.0.0->gmaps) (0.5.1)\n",
            "Requirement already satisfied: pyparsing!=3.0.5,>=2.0.2 in /usr/local/lib/python3.7/dist-packages (from packaging->bleach->nbconvert->notebook>=4.4.1->widgetsnbextension~=3.6.0->ipywidgets>=7.0.0->gmaps) (3.0.7)\n",
            "Building wheels for collected packages: gmaps\n",
            "  Building wheel for gmaps (setup.py) ... \u001b[?25l\u001b[?25hdone\n",
            "  Created wheel for gmaps: filename=gmaps-0.9.0-py2.py3-none-any.whl size=2076111 sha256=352d3d8a0c45186d07d37a7ba8e3ca4fdd98215717aaf0e14c3f27879f0ca765\n",
            "  Stored in directory: /root/.cache/pip/wheels/3d/1c/cb/c46f4199210e632b28d78d05a00bfdccbf6dfcd3f5b051d6bf\n",
            "Successfully built gmaps\n",
            "Installing collected packages: geojson, gmaps\n",
            "Successfully installed geojson-2.5.0 gmaps-0.9.0\n",
            "Requirement already satisfied: ipywidgets in /usr/local/lib/python3.7/dist-packages (7.7.0)\n",
            "Requirement already satisfied: jupyterlab-widgets>=1.0.0 in /usr/local/lib/python3.7/dist-packages (from ipywidgets) (1.1.0)\n",
            "Requirement already satisfied: ipython>=4.0.0 in /usr/local/lib/python3.7/dist-packages (from ipywidgets) (5.5.0)\n",
            "Requirement already satisfied: widgetsnbextension~=3.6.0 in /usr/local/lib/python3.7/dist-packages (from ipywidgets) (3.6.0)\n",
            "Requirement already satisfied: traitlets>=4.3.1 in /usr/local/lib/python3.7/dist-packages (from ipywidgets) (5.1.1)\n",
            "Requirement already satisfied: ipython-genutils~=0.2.0 in /usr/local/lib/python3.7/dist-packages (from ipywidgets) (0.2.0)\n",
            "Requirement already satisfied: nbformat>=4.2.0 in /usr/local/lib/python3.7/dist-packages (from ipywidgets) (5.2.0)\n",
            "Requirement already satisfied: ipykernel>=4.5.1 in /usr/local/lib/python3.7/dist-packages (from ipywidgets) (4.10.1)\n",
            "Requirement already satisfied: jupyter-client in /usr/local/lib/python3.7/dist-packages (from ipykernel>=4.5.1->ipywidgets) (5.3.5)\n",
            "Requirement already satisfied: tornado>=4.0 in /usr/local/lib/python3.7/dist-packages (from ipykernel>=4.5.1->ipywidgets) (5.1.1)\n",
            "Requirement already satisfied: pexpect in /usr/local/lib/python3.7/dist-packages (from ipython>=4.0.0->ipywidgets) (4.8.0)\n",
            "Requirement already satisfied: simplegeneric>0.8 in /usr/local/lib/python3.7/dist-packages (from ipython>=4.0.0->ipywidgets) (0.8.1)\n",
            "Requirement already satisfied: setuptools>=18.5 in /usr/local/lib/python3.7/dist-packages (from ipython>=4.0.0->ipywidgets) (57.4.0)\n",
            "Requirement already satisfied: decorator in /usr/local/lib/python3.7/dist-packages (from ipython>=4.0.0->ipywidgets) (4.4.2)\n",
            "Requirement already satisfied: prompt-toolkit<2.0.0,>=1.0.4 in /usr/local/lib/python3.7/dist-packages (from ipython>=4.0.0->ipywidgets) (1.0.18)\n",
            "Requirement already satisfied: pickleshare in /usr/local/lib/python3.7/dist-packages (from ipython>=4.0.0->ipywidgets) (0.7.5)\n",
            "Requirement already satisfied: pygments in /usr/local/lib/python3.7/dist-packages (from ipython>=4.0.0->ipywidgets) (2.6.1)\n",
            "Requirement already satisfied: jsonschema!=2.5.0,>=2.4 in /usr/local/lib/python3.7/dist-packages (from nbformat>=4.2.0->ipywidgets) (4.3.3)\n",
            "Requirement already satisfied: jupyter-core in /usr/local/lib/python3.7/dist-packages (from nbformat>=4.2.0->ipywidgets) (4.9.2)\n",
            "Requirement already satisfied: typing-extensions in /usr/local/lib/python3.7/dist-packages (from jsonschema!=2.5.0,>=2.4->nbformat>=4.2.0->ipywidgets) (3.10.0.2)\n",
            "Requirement already satisfied: importlib-resources>=1.4.0 in /usr/local/lib/python3.7/dist-packages (from jsonschema!=2.5.0,>=2.4->nbformat>=4.2.0->ipywidgets) (5.4.0)\n",
            "Requirement already satisfied: attrs>=17.4.0 in /usr/local/lib/python3.7/dist-packages (from jsonschema!=2.5.0,>=2.4->nbformat>=4.2.0->ipywidgets) (21.4.0)\n",
            "Requirement already satisfied: pyrsistent!=0.17.0,!=0.17.1,!=0.17.2,>=0.14.0 in /usr/local/lib/python3.7/dist-packages (from jsonschema!=2.5.0,>=2.4->nbformat>=4.2.0->ipywidgets) (0.18.1)\n",
            "Requirement already satisfied: importlib-metadata in /usr/local/lib/python3.7/dist-packages (from jsonschema!=2.5.0,>=2.4->nbformat>=4.2.0->ipywidgets) (4.11.3)\n",
            "Requirement already satisfied: zipp>=3.1.0 in /usr/local/lib/python3.7/dist-packages (from importlib-resources>=1.4.0->jsonschema!=2.5.0,>=2.4->nbformat>=4.2.0->ipywidgets) (3.7.0)\n",
            "Requirement already satisfied: six>=1.9.0 in /usr/local/lib/python3.7/dist-packages (from prompt-toolkit<2.0.0,>=1.0.4->ipython>=4.0.0->ipywidgets) (1.15.0)\n",
            "Requirement already satisfied: wcwidth in /usr/local/lib/python3.7/dist-packages (from prompt-toolkit<2.0.0,>=1.0.4->ipython>=4.0.0->ipywidgets) (0.2.5)\n",
            "Requirement already satisfied: notebook>=4.4.1 in /usr/local/lib/python3.7/dist-packages (from widgetsnbextension~=3.6.0->ipywidgets) (5.3.1)\n",
            "Requirement already satisfied: terminado>=0.8.1 in /usr/local/lib/python3.7/dist-packages (from notebook>=4.4.1->widgetsnbextension~=3.6.0->ipywidgets) (0.13.3)\n",
            "Requirement already satisfied: nbconvert in /usr/local/lib/python3.7/dist-packages (from notebook>=4.4.1->widgetsnbextension~=3.6.0->ipywidgets) (5.6.1)\n",
            "Requirement already satisfied: jinja2 in /usr/local/lib/python3.7/dist-packages (from notebook>=4.4.1->widgetsnbextension~=3.6.0->ipywidgets) (2.11.3)\n",
            "Requirement already satisfied: Send2Trash in /usr/local/lib/python3.7/dist-packages (from notebook>=4.4.1->widgetsnbextension~=3.6.0->ipywidgets) (1.8.0)\n",
            "Requirement already satisfied: python-dateutil>=2.1 in /usr/local/lib/python3.7/dist-packages (from jupyter-client->ipykernel>=4.5.1->ipywidgets) (2.8.2)\n",
            "Requirement already satisfied: pyzmq>=13 in /usr/local/lib/python3.7/dist-packages (from jupyter-client->ipykernel>=4.5.1->ipywidgets) (22.3.0)\n",
            "Requirement already satisfied: ptyprocess in /usr/local/lib/python3.7/dist-packages (from terminado>=0.8.1->notebook>=4.4.1->widgetsnbextension~=3.6.0->ipywidgets) (0.7.0)\n",
            "Requirement already satisfied: MarkupSafe>=0.23 in /usr/local/lib/python3.7/dist-packages (from jinja2->notebook>=4.4.1->widgetsnbextension~=3.6.0->ipywidgets) (2.0.1)\n",
            "Requirement already satisfied: testpath in /usr/local/lib/python3.7/dist-packages (from nbconvert->notebook>=4.4.1->widgetsnbextension~=3.6.0->ipywidgets) (0.6.0)\n",
            "Requirement already satisfied: defusedxml in /usr/local/lib/python3.7/dist-packages (from nbconvert->notebook>=4.4.1->widgetsnbextension~=3.6.0->ipywidgets) (0.7.1)\n",
            "Requirement already satisfied: entrypoints>=0.2.2 in /usr/local/lib/python3.7/dist-packages (from nbconvert->notebook>=4.4.1->widgetsnbextension~=3.6.0->ipywidgets) (0.4)\n",
            "Requirement already satisfied: bleach in /usr/local/lib/python3.7/dist-packages (from nbconvert->notebook>=4.4.1->widgetsnbextension~=3.6.0->ipywidgets) (4.1.0)\n",
            "Requirement already satisfied: pandocfilters>=1.4.1 in /usr/local/lib/python3.7/dist-packages (from nbconvert->notebook>=4.4.1->widgetsnbextension~=3.6.0->ipywidgets) (1.5.0)\n",
            "Requirement already satisfied: mistune<2,>=0.8.1 in /usr/local/lib/python3.7/dist-packages (from nbconvert->notebook>=4.4.1->widgetsnbextension~=3.6.0->ipywidgets) (0.8.4)\n",
            "Requirement already satisfied: packaging in /usr/local/lib/python3.7/dist-packages (from bleach->nbconvert->notebook>=4.4.1->widgetsnbextension~=3.6.0->ipywidgets) (21.3)\n",
            "Requirement already satisfied: webencodings in /usr/local/lib/python3.7/dist-packages (from bleach->nbconvert->notebook>=4.4.1->widgetsnbextension~=3.6.0->ipywidgets) (0.5.1)\n",
            "Requirement already satisfied: pyparsing!=3.0.5,>=2.0.2 in /usr/local/lib/python3.7/dist-packages (from packaging->bleach->nbconvert->notebook>=4.4.1->widgetsnbextension~=3.6.0->ipywidgets) (3.0.7)\n",
            "Requirement already satisfied: widgetsnbextension in /usr/local/lib/python3.7/dist-packages (3.6.0)\n",
            "Requirement already satisfied: notebook>=4.4.1 in /usr/local/lib/python3.7/dist-packages (from widgetsnbextension) (5.3.1)\n",
            "Requirement already satisfied: jinja2 in /usr/local/lib/python3.7/dist-packages (from notebook>=4.4.1->widgetsnbextension) (2.11.3)\n",
            "Requirement already satisfied: Send2Trash in /usr/local/lib/python3.7/dist-packages (from notebook>=4.4.1->widgetsnbextension) (1.8.0)\n",
            "Requirement already satisfied: terminado>=0.8.1 in /usr/local/lib/python3.7/dist-packages (from notebook>=4.4.1->widgetsnbextension) (0.13.3)\n",
            "Requirement already satisfied: jupyter-core>=4.4.0 in /usr/local/lib/python3.7/dist-packages (from notebook>=4.4.1->widgetsnbextension) (4.9.2)\n",
            "Requirement already satisfied: ipykernel in /usr/local/lib/python3.7/dist-packages (from notebook>=4.4.1->widgetsnbextension) (4.10.1)\n",
            "Requirement already satisfied: ipython-genutils in /usr/local/lib/python3.7/dist-packages (from notebook>=4.4.1->widgetsnbextension) (0.2.0)\n",
            "Requirement already satisfied: tornado>=4 in /usr/local/lib/python3.7/dist-packages (from notebook>=4.4.1->widgetsnbextension) (5.1.1)\n",
            "Requirement already satisfied: jupyter-client>=5.2.0 in /usr/local/lib/python3.7/dist-packages (from notebook>=4.4.1->widgetsnbextension) (5.3.5)\n",
            "Requirement already satisfied: traitlets>=4.2.1 in /usr/local/lib/python3.7/dist-packages (from notebook>=4.4.1->widgetsnbextension) (5.1.1)\n",
            "Requirement already satisfied: nbconvert in /usr/local/lib/python3.7/dist-packages (from notebook>=4.4.1->widgetsnbextension) (5.6.1)\n",
            "Requirement already satisfied: nbformat in /usr/local/lib/python3.7/dist-packages (from notebook>=4.4.1->widgetsnbextension) (5.2.0)\n",
            "Requirement already satisfied: pyzmq>=13 in /usr/local/lib/python3.7/dist-packages (from jupyter-client>=5.2.0->notebook>=4.4.1->widgetsnbextension) (22.3.0)\n",
            "Requirement already satisfied: python-dateutil>=2.1 in /usr/local/lib/python3.7/dist-packages (from jupyter-client>=5.2.0->notebook>=4.4.1->widgetsnbextension) (2.8.2)\n",
            "Requirement already satisfied: six>=1.5 in /usr/local/lib/python3.7/dist-packages (from python-dateutil>=2.1->jupyter-client>=5.2.0->notebook>=4.4.1->widgetsnbextension) (1.15.0)\n",
            "Requirement already satisfied: ptyprocess in /usr/local/lib/python3.7/dist-packages (from terminado>=0.8.1->notebook>=4.4.1->widgetsnbextension) (0.7.0)\n",
            "Requirement already satisfied: ipython>=4.0.0 in /usr/local/lib/python3.7/dist-packages (from ipykernel->notebook>=4.4.1->widgetsnbextension) (5.5.0)\n",
            "Requirement already satisfied: prompt-toolkit<2.0.0,>=1.0.4 in /usr/local/lib/python3.7/dist-packages (from ipython>=4.0.0->ipykernel->notebook>=4.4.1->widgetsnbextension) (1.0.18)\n",
            "Requirement already satisfied: pexpect in /usr/local/lib/python3.7/dist-packages (from ipython>=4.0.0->ipykernel->notebook>=4.4.1->widgetsnbextension) (4.8.0)\n",
            "Requirement already satisfied: setuptools>=18.5 in /usr/local/lib/python3.7/dist-packages (from ipython>=4.0.0->ipykernel->notebook>=4.4.1->widgetsnbextension) (57.4.0)\n",
            "Requirement already satisfied: simplegeneric>0.8 in /usr/local/lib/python3.7/dist-packages (from ipython>=4.0.0->ipykernel->notebook>=4.4.1->widgetsnbextension) (0.8.1)\n",
            "Requirement already satisfied: pygments in /usr/local/lib/python3.7/dist-packages (from ipython>=4.0.0->ipykernel->notebook>=4.4.1->widgetsnbextension) (2.6.1)\n",
            "Requirement already satisfied: decorator in /usr/local/lib/python3.7/dist-packages (from ipython>=4.0.0->ipykernel->notebook>=4.4.1->widgetsnbextension) (4.4.2)\n",
            "Requirement already satisfied: pickleshare in /usr/local/lib/python3.7/dist-packages (from ipython>=4.0.0->ipykernel->notebook>=4.4.1->widgetsnbextension) (0.7.5)\n",
            "Requirement already satisfied: wcwidth in /usr/local/lib/python3.7/dist-packages (from prompt-toolkit<2.0.0,>=1.0.4->ipython>=4.0.0->ipykernel->notebook>=4.4.1->widgetsnbextension) (0.2.5)\n",
            "Requirement already satisfied: MarkupSafe>=0.23 in /usr/local/lib/python3.7/dist-packages (from jinja2->notebook>=4.4.1->widgetsnbextension) (2.0.1)\n",
            "Requirement already satisfied: bleach in /usr/local/lib/python3.7/dist-packages (from nbconvert->notebook>=4.4.1->widgetsnbextension) (4.1.0)\n",
            "Requirement already satisfied: testpath in /usr/local/lib/python3.7/dist-packages (from nbconvert->notebook>=4.4.1->widgetsnbextension) (0.6.0)\n",
            "Requirement already satisfied: mistune<2,>=0.8.1 in /usr/local/lib/python3.7/dist-packages (from nbconvert->notebook>=4.4.1->widgetsnbextension) (0.8.4)\n",
            "Requirement already satisfied: pandocfilters>=1.4.1 in /usr/local/lib/python3.7/dist-packages (from nbconvert->notebook>=4.4.1->widgetsnbextension) (1.5.0)\n",
            "Requirement already satisfied: defusedxml in /usr/local/lib/python3.7/dist-packages (from nbconvert->notebook>=4.4.1->widgetsnbextension) (0.7.1)\n",
            "Requirement already satisfied: entrypoints>=0.2.2 in /usr/local/lib/python3.7/dist-packages (from nbconvert->notebook>=4.4.1->widgetsnbextension) (0.4)\n",
            "Requirement already satisfied: jsonschema!=2.5.0,>=2.4 in /usr/local/lib/python3.7/dist-packages (from nbformat->notebook>=4.4.1->widgetsnbextension) (4.3.3)\n",
            "Requirement already satisfied: pyrsistent!=0.17.0,!=0.17.1,!=0.17.2,>=0.14.0 in /usr/local/lib/python3.7/dist-packages (from jsonschema!=2.5.0,>=2.4->nbformat->notebook>=4.4.1->widgetsnbextension) (0.18.1)\n",
            "Requirement already satisfied: importlib-metadata in /usr/local/lib/python3.7/dist-packages (from jsonschema!=2.5.0,>=2.4->nbformat->notebook>=4.4.1->widgetsnbextension) (4.11.3)\n",
            "Requirement already satisfied: importlib-resources>=1.4.0 in /usr/local/lib/python3.7/dist-packages (from jsonschema!=2.5.0,>=2.4->nbformat->notebook>=4.4.1->widgetsnbextension) (5.4.0)\n",
            "Requirement already satisfied: attrs>=17.4.0 in /usr/local/lib/python3.7/dist-packages (from jsonschema!=2.5.0,>=2.4->nbformat->notebook>=4.4.1->widgetsnbextension) (21.4.0)\n",
            "Requirement already satisfied: typing-extensions in /usr/local/lib/python3.7/dist-packages (from jsonschema!=2.5.0,>=2.4->nbformat->notebook>=4.4.1->widgetsnbextension) (3.10.0.2)\n",
            "Requirement already satisfied: zipp>=3.1.0 in /usr/local/lib/python3.7/dist-packages (from importlib-resources>=1.4.0->jsonschema!=2.5.0,>=2.4->nbformat->notebook>=4.4.1->widgetsnbextension) (3.7.0)\n",
            "Requirement already satisfied: webencodings in /usr/local/lib/python3.7/dist-packages (from bleach->nbconvert->notebook>=4.4.1->widgetsnbextension) (0.5.1)\n",
            "Requirement already satisfied: packaging in /usr/local/lib/python3.7/dist-packages (from bleach->nbconvert->notebook>=4.4.1->widgetsnbextension) (21.3)\n",
            "Requirement already satisfied: pyparsing!=3.0.5,>=2.0.2 in /usr/local/lib/python3.7/dist-packages (from packaging->bleach->nbconvert->notebook>=4.4.1->widgetsnbextension) (3.0.7)\n",
            "Collecting plotly==4.6\n",
            "  Downloading plotly-4.6.0-py2.py3-none-any.whl (7.1 MB)\n",
            "\u001b[K     |████████████████████████████████| 7.1 MB 7.9 MB/s \n",
            "\u001b[?25hCollecting retrying>=1.3.3\n",
            "  Downloading retrying-1.3.3.tar.gz (10 kB)\n",
            "Requirement already satisfied: six in /usr/local/lib/python3.7/dist-packages (from plotly==4.6) (1.15.0)\n",
            "Building wheels for collected packages: retrying\n",
            "  Building wheel for retrying (setup.py) ... \u001b[?25l\u001b[?25hdone\n",
            "  Created wheel for retrying: filename=retrying-1.3.3-py3-none-any.whl size=11447 sha256=7c1eb3deb9a03e23c7e3356910d757f438ebdf736ccf19474cef38758591cd1d\n",
            "  Stored in directory: /root/.cache/pip/wheels/f9/8d/8d/f6af3f7f9eea3553bc2fe6d53e4b287dad18b06a861ac56ddf\n",
            "Successfully built retrying\n",
            "Installing collected packages: retrying, plotly\n",
            "  Attempting uninstall: plotly\n",
            "    Found existing installation: plotly 5.5.0\n",
            "    Uninstalling plotly-5.5.0:\n",
            "      Successfully uninstalled plotly-5.5.0\n",
            "Successfully installed plotly-4.6.0 retrying-1.3.3\n",
            "Collecting geopandas\n",
            "  Downloading geopandas-0.10.2-py2.py3-none-any.whl (1.0 MB)\n",
            "\u001b[K     |████████████████████████████████| 1.0 MB 7.9 MB/s \n",
            "\u001b[?25hCollecting pyproj>=2.2.0\n",
            "  Downloading pyproj-3.2.1-cp37-cp37m-manylinux2010_x86_64.whl (6.3 MB)\n",
            "\u001b[K     |████████████████████████████████| 6.3 MB 41.8 MB/s \n",
            "\u001b[?25hRequirement already satisfied: pandas>=0.25.0 in /usr/local/lib/python3.7/dist-packages (from geopandas) (1.3.5)\n",
            "Requirement already satisfied: shapely>=1.6 in /usr/local/lib/python3.7/dist-packages (from geopandas) (1.8.1.post1)\n",
            "Collecting fiona>=1.8\n",
            "  Downloading Fiona-1.8.21-cp37-cp37m-manylinux2014_x86_64.whl (16.7 MB)\n",
            "\u001b[K     |████████████████████████████████| 16.7 MB 325 kB/s \n",
            "\u001b[?25hRequirement already satisfied: six>=1.7 in /usr/local/lib/python3.7/dist-packages (from fiona>=1.8->geopandas) (1.15.0)\n",
            "Collecting munch\n",
            "  Downloading munch-2.5.0-py2.py3-none-any.whl (10 kB)\n",
            "Requirement already satisfied: setuptools in /usr/local/lib/python3.7/dist-packages (from fiona>=1.8->geopandas) (57.4.0)\n",
            "Collecting click-plugins>=1.0\n",
            "  Downloading click_plugins-1.1.1-py2.py3-none-any.whl (7.5 kB)\n",
            "Requirement already satisfied: click>=4.0 in /usr/local/lib/python3.7/dist-packages (from fiona>=1.8->geopandas) (7.1.2)\n",
            "Requirement already satisfied: certifi in /usr/local/lib/python3.7/dist-packages (from fiona>=1.8->geopandas) (2021.10.8)\n",
            "Collecting cligj>=0.5\n",
            "  Downloading cligj-0.7.2-py3-none-any.whl (7.1 kB)\n",
            "Requirement already satisfied: attrs>=17 in /usr/local/lib/python3.7/dist-packages (from fiona>=1.8->geopandas) (21.4.0)\n",
            "Requirement already satisfied: python-dateutil>=2.7.3 in /usr/local/lib/python3.7/dist-packages (from pandas>=0.25.0->geopandas) (2.8.2)\n",
            "Requirement already satisfied: numpy>=1.17.3 in /usr/local/lib/python3.7/dist-packages (from pandas>=0.25.0->geopandas) (1.21.5)\n",
            "Requirement already satisfied: pytz>=2017.3 in /usr/local/lib/python3.7/dist-packages (from pandas>=0.25.0->geopandas) (2018.9)\n",
            "Installing collected packages: munch, cligj, click-plugins, pyproj, fiona, geopandas\n",
            "Successfully installed click-plugins-1.1.1 cligj-0.7.2 fiona-1.8.21 geopandas-0.10.2 munch-2.5.0 pyproj-3.2.1\n",
            "Collecting geoplot\n",
            "  Downloading geoplot-0.5.1-py3-none-any.whl (28 kB)\n",
            "Collecting contextily>=1.0.0\n",
            "  Downloading contextily-1.2.0-py3-none-any.whl (16 kB)\n",
            "Requirement already satisfied: matplotlib>=3.1.2 in /usr/local/lib/python3.7/dist-packages (from geoplot) (3.2.2)\n",
            "Requirement already satisfied: pandas in /usr/local/lib/python3.7/dist-packages (from geoplot) (1.3.5)\n",
            "Collecting mapclassify>=2.1\n",
            "  Downloading mapclassify-2.4.3-py3-none-any.whl (38 kB)\n",
            "Requirement already satisfied: geopandas>=0.9.0 in /usr/local/lib/python3.7/dist-packages (from geoplot) (0.10.2)\n",
            "Requirement already satisfied: seaborn in /usr/local/lib/python3.7/dist-packages (from geoplot) (0.11.2)\n",
            "Collecting cartopy\n",
            "  Downloading Cartopy-0.20.2.tar.gz (10.8 MB)\n",
            "\u001b[K     |████████████████████████████████| 10.8 MB 12.4 MB/s \n",
            "\u001b[?25h  Installing build dependencies ... \u001b[?25l\u001b[?25hdone\n",
            "  Getting requirements to build wheel ... \u001b[?25l\u001b[?25herror\n",
            "\u001b[33mWARNING: Discarding https://files.pythonhosted.org/packages/f6/55/1e1c737dc9436b320deead73d1c455ddbb74b8b6992081863492f6f6378a/Cartopy-0.20.2.tar.gz#sha256=4d08c198ecaa50a6a6b109d0f14c070e813defc046a83ac5d7ab494f85599e35 (from https://pypi.org/simple/cartopy/) (requires-python:>=3.7). Command errored out with exit status 1: /usr/bin/python3 /usr/local/lib/python3.7/dist-packages/pip/_vendor/pep517/in_process/_in_process.py get_requires_for_build_wheel /tmp/tmpp6nn3i52 Check the logs for full command output.\u001b[0m\n",
            "  Downloading Cartopy-0.20.1.tar.gz (10.8 MB)\n",
            "\u001b[K     |████████████████████████████████| 10.8 MB 24.5 MB/s \n",
            "\u001b[?25h  Installing build dependencies ... \u001b[?25l\u001b[?25hdone\n",
            "  Getting requirements to build wheel ... \u001b[?25l\u001b[?25herror\n",
            "\u001b[33mWARNING: Discarding https://files.pythonhosted.org/packages/fc/59/aa52698e3838f4cd0e7eaa75bd86837e9e0b05041dbdaee3cda2fffced06/Cartopy-0.20.1.tar.gz#sha256=91f87b130e2574547a20cd634498df97d797abd12dcfd0235bc0cdbcec8b05e3 (from https://pypi.org/simple/cartopy/) (requires-python:>=3.7). Command errored out with exit status 1: /usr/bin/python3 /usr/local/lib/python3.7/dist-packages/pip/_vendor/pep517/in_process/_in_process.py get_requires_for_build_wheel /tmp/tmpnri32i9a Check the logs for full command output.\u001b[0m\n",
            "  Downloading Cartopy-0.20.0.tar.gz (10.8 MB)\n",
            "\u001b[K     |████████████████████████████████| 10.8 MB 29.8 MB/s \n",
            "\u001b[?25h  Installing build dependencies ... \u001b[?25l\u001b[?25hdone\n",
            "  Getting requirements to build wheel ... \u001b[?25l\u001b[?25herror\n",
            "\u001b[33mWARNING: Discarding https://files.pythonhosted.org/packages/0f/c0/58453b036e79046d211f083880d58dcce787e7e07647ac25dc46c6555099/Cartopy-0.20.0.tar.gz#sha256=eae58aff26806e63cf115b2bce9477cedc4aa9f578c5e477b2c25cfa404f2b7a (from https://pypi.org/simple/cartopy/) (requires-python:>=3.7). Command errored out with exit status 1: /usr/bin/python3 /usr/local/lib/python3.7/dist-packages/pip/_vendor/pep517/in_process/_in_process.py get_requires_for_build_wheel /tmp/tmpo83ncaop Check the logs for full command output.\u001b[0m\n",
            "  Downloading Cartopy-0.19.0.post1.tar.gz (12.1 MB)\n",
            "\u001b[K     |████████████████████████████████| 12.1 MB 14.5 MB/s \n",
            "\u001b[?25h  Installing build dependencies ... \u001b[?25l\u001b[?25hdone\n",
            "  Getting requirements to build wheel ... \u001b[?25l\u001b[?25hdone\n",
            "    Preparing wheel metadata ... \u001b[?25l\u001b[?25hdone\n",
            "Requirement already satisfied: pillow in /usr/local/lib/python3.7/dist-packages (from contextily>=1.0.0->geoplot) (7.1.2)\n",
            "Collecting rasterio\n",
            "  Downloading rasterio-1.2.10-cp37-cp37m-manylinux1_x86_64.whl (19.3 MB)\n",
            "\u001b[K     |████████████████████████████████| 19.3 MB 11.5 MB/s \n",
            "\u001b[?25hRequirement already satisfied: joblib in /usr/local/lib/python3.7/dist-packages (from contextily>=1.0.0->geoplot) (1.1.0)\n",
            "Collecting xyzservices\n",
            "  Downloading xyzservices-2022.3.0-py3-none-any.whl (36 kB)\n",
            "Requirement already satisfied: geopy in /usr/local/lib/python3.7/dist-packages (from contextily>=1.0.0->geoplot) (1.17.0)\n",
            "Collecting mercantile\n",
            "  Downloading mercantile-1.2.1-py3-none-any.whl (14 kB)\n",
            "Requirement already satisfied: requests in /usr/local/lib/python3.7/dist-packages (from contextily>=1.0.0->geoplot) (2.23.0)\n",
            "Requirement already satisfied: pyproj>=2.2.0 in /usr/local/lib/python3.7/dist-packages (from geopandas>=0.9.0->geoplot) (3.2.1)\n",
            "Requirement already satisfied: fiona>=1.8 in /usr/local/lib/python3.7/dist-packages (from geopandas>=0.9.0->geoplot) (1.8.21)\n",
            "Requirement already satisfied: shapely>=1.6 in /usr/local/lib/python3.7/dist-packages (from geopandas>=0.9.0->geoplot) (1.8.1.post1)\n",
            "Requirement already satisfied: six>=1.7 in /usr/local/lib/python3.7/dist-packages (from fiona>=1.8->geopandas>=0.9.0->geoplot) (1.15.0)\n",
            "Requirement already satisfied: attrs>=17 in /usr/local/lib/python3.7/dist-packages (from fiona>=1.8->geopandas>=0.9.0->geoplot) (21.4.0)\n",
            "Requirement already satisfied: cligj>=0.5 in /usr/local/lib/python3.7/dist-packages (from fiona>=1.8->geopandas>=0.9.0->geoplot) (0.7.2)\n",
            "Requirement already satisfied: click>=4.0 in /usr/local/lib/python3.7/dist-packages (from fiona>=1.8->geopandas>=0.9.0->geoplot) (7.1.2)\n",
            "Requirement already satisfied: munch in /usr/local/lib/python3.7/dist-packages (from fiona>=1.8->geopandas>=0.9.0->geoplot) (2.5.0)\n",
            "Requirement already satisfied: click-plugins>=1.0 in /usr/local/lib/python3.7/dist-packages (from fiona>=1.8->geopandas>=0.9.0->geoplot) (1.1.1)\n",
            "Requirement already satisfied: certifi in /usr/local/lib/python3.7/dist-packages (from fiona>=1.8->geopandas>=0.9.0->geoplot) (2021.10.8)\n",
            "Requirement already satisfied: setuptools in /usr/local/lib/python3.7/dist-packages (from fiona>=1.8->geopandas>=0.9.0->geoplot) (57.4.0)\n",
            "Requirement already satisfied: scipy>=1.0 in /usr/local/lib/python3.7/dist-packages (from mapclassify>=2.1->geoplot) (1.4.1)\n",
            "Requirement already satisfied: networkx in /usr/local/lib/python3.7/dist-packages (from mapclassify>=2.1->geoplot) (2.6.3)\n",
            "Requirement already satisfied: scikit-learn in /usr/local/lib/python3.7/dist-packages (from mapclassify>=2.1->geoplot) (1.0.2)\n",
            "Requirement already satisfied: numpy>=1.3 in /usr/local/lib/python3.7/dist-packages (from mapclassify>=2.1->geoplot) (1.21.5)\n",
            "Requirement already satisfied: kiwisolver>=1.0.1 in /usr/local/lib/python3.7/dist-packages (from matplotlib>=3.1.2->geoplot) (1.4.0)\n",
            "Requirement already satisfied: cycler>=0.10 in /usr/local/lib/python3.7/dist-packages (from matplotlib>=3.1.2->geoplot) (0.11.0)\n",
            "Requirement already satisfied: pyparsing!=2.0.4,!=2.1.2,!=2.1.6,>=2.0.1 in /usr/local/lib/python3.7/dist-packages (from matplotlib>=3.1.2->geoplot) (3.0.7)\n",
            "Requirement already satisfied: python-dateutil>=2.1 in /usr/local/lib/python3.7/dist-packages (from matplotlib>=3.1.2->geoplot) (2.8.2)\n",
            "Requirement already satisfied: typing-extensions in /usr/local/lib/python3.7/dist-packages (from kiwisolver>=1.0.1->matplotlib>=3.1.2->geoplot) (3.10.0.2)\n",
            "Requirement already satisfied: pytz>=2017.3 in /usr/local/lib/python3.7/dist-packages (from pandas->geoplot) (2018.9)\n",
            "Collecting pyshp>=2\n",
            "  Downloading pyshp-2.2.0-py3-none-any.whl (44 kB)\n",
            "\u001b[K     |████████████████████████████████| 44 kB 3.3 MB/s \n",
            "\u001b[?25hRequirement already satisfied: geographiclib<2,>=1.49 in /usr/local/lib/python3.7/dist-packages (from geopy->contextily>=1.0.0->geoplot) (1.52)\n",
            "Collecting snuggs>=1.4.1\n",
            "  Downloading snuggs-1.4.7-py3-none-any.whl (5.4 kB)\n",
            "Collecting affine\n",
            "  Downloading affine-2.3.1-py2.py3-none-any.whl (16 kB)\n",
            "Requirement already satisfied: urllib3!=1.25.0,!=1.25.1,<1.26,>=1.21.1 in /usr/local/lib/python3.7/dist-packages (from requests->contextily>=1.0.0->geoplot) (1.24.3)\n",
            "Requirement already satisfied: idna<3,>=2.5 in /usr/local/lib/python3.7/dist-packages (from requests->contextily>=1.0.0->geoplot) (2.10)\n",
            "Requirement already satisfied: chardet<4,>=3.0.2 in /usr/local/lib/python3.7/dist-packages (from requests->contextily>=1.0.0->geoplot) (3.0.4)\n",
            "Requirement already satisfied: threadpoolctl>=2.0.0 in /usr/local/lib/python3.7/dist-packages (from scikit-learn->mapclassify>=2.1->geoplot) (3.1.0)\n",
            "Building wheels for collected packages: cartopy\n",
            "  Building wheel for cartopy (PEP 517) ... \u001b[?25l\u001b[?25hdone\n",
            "  Created wheel for cartopy: filename=Cartopy-0.19.0.post1-cp37-cp37m-linux_x86_64.whl size=12516268 sha256=84a7126ebb8a7138ad963df9d39c24ff0415350eb07623f44c7d5215bc89c860\n",
            "  Stored in directory: /root/.cache/pip/wheels/98/01/f7/bd10aeb96fe4b518cde5f7c4f5e12c7202f85b7353a5017847\n",
            "Successfully built cartopy\n",
            "Installing collected packages: snuggs, affine, xyzservices, rasterio, pyshp, mercantile, mapclassify, contextily, cartopy, geoplot\n",
            "Successfully installed affine-2.3.1 cartopy-0.19.0.post1 contextily-1.2.0 geoplot-0.5.1 mapclassify-2.4.3 mercantile-1.2.1 pyshp-2.2.0 rasterio-1.2.10 snuggs-1.4.7 xyzservices-2022.3.0\n"
          ]
        }
      ],
      "source": [
        "!pip install gmaps\n",
        "!pip install ipywidgets\n",
        "!pip install widgetsnbextension\n",
        "!pip install plotly==4.6\n",
        "!pip install geopandas\n",
        "!pip install geoplot"
      ],
      "id": "yMtJaxBNc2gb"
    },
    {
      "cell_type": "code",
      "execution_count": null,
      "metadata": {
        "id": "Xcuag56AeRCb"
      },
      "outputs": [],
      "source": [
        "from google.colab import output\n",
        "output.enable_custom_widget_manager()"
      ],
      "id": "Xcuag56AeRCb"
    },
    {
      "cell_type": "markdown",
      "metadata": {
        "id": "4WoHDTPu3np9"
      },
      "source": [
        "We import all the libraries required to analyse the data and draw expploratory graphs"
      ],
      "id": "4WoHDTPu3np9"
    },
    {
      "cell_type": "code",
      "execution_count": null,
      "metadata": {
        "colab": {
          "base_uri": "https://localhost:8080/",
          "height": 17
        },
        "id": "dc1601e1",
        "outputId": "bb2fff01-b29f-47e7-a915-f2607e48eef5"
      },
      "outputs": [
        {
          "output_type": "display_data",
          "data": {
            "text/html": [
              "        <script type=\"text/javascript\">\n",
              "        window.PlotlyConfig = {MathJaxConfig: 'local'};\n",
              "        if (window.MathJax) {MathJax.Hub.Config({SVG: {font: \"STIX-Web\"}});}\n",
              "        if (typeof require !== 'undefined') {\n",
              "        require.undef(\"plotly\");\n",
              "        requirejs.config({\n",
              "            paths: {\n",
              "                'plotly': ['https://cdn.plot.ly/plotly-latest.min']\n",
              "            }\n",
              "        });\n",
              "        require(['plotly'], function(Plotly) {\n",
              "            window._Plotly = Plotly;\n",
              "        });\n",
              "        }\n",
              "        </script>\n",
              "        "
            ]
          },
          "metadata": {}
        }
      ],
      "source": [
        "## Import library\n",
        "import numpy as np\n",
        "from numpy import mean\n",
        "import pandas as pd\n",
        "from pandas_profiling import ProfileReport\n",
        "import seaborn as sns\n",
        "import warnings\n",
        "warnings.filterwarnings(\"ignore\")\n",
        "import matplotlib.pyplot as plt\n",
        "import matplotlib.colors as colors\n",
        "%matplotlib inline\n",
        "from operator import itemgetter\n",
        "import ast\n",
        "from ast import literal_eval\n",
        "\n",
        "## Plotly Packages\n",
        "from plotly import tools\n",
        "import plotly.graph_objs as go\n",
        "import plotly.express as px\n",
        "from plotly.offline import download_plotlyjs, init_notebook_mode, plot, iplot\n",
        "init_notebook_mode(connected=True)\n",
        "import ipywidgets\n",
        "from IPython.display import HTML\n",
        "import gmaps \n",
        "import gmaps.datasets \n",
        "import geopandas as gpd\n",
        "import geoplot as gplt\n",
        "import scipy.stats as stats"
      ],
      "id": "dc1601e1"
    },
    {
      "cell_type": "markdown",
      "metadata": {
        "id": "f67c95ab"
      },
      "source": [
        "**DATA PROFILING**"
      ],
      "id": "f67c95ab"
    },
    {
      "cell_type": "markdown",
      "metadata": {
        "id": "mNyNWc3P3w5b"
      },
      "source": [
        "To get the data, stored as a CSV file on the drive, we have connected to the Google drive and we get the data through the file id"
      ],
      "id": "mNyNWc3P3w5b"
    },
    {
      "cell_type": "code",
      "execution_count": null,
      "metadata": {
        "id": "OwXinMfMZJt7"
      },
      "outputs": [],
      "source": [
        "!pip install -U -q PyDrive\n",
        "from pydrive.auth import GoogleAuth\n",
        "from pydrive.drive import GoogleDrive\n",
        "from google.colab import auth\n",
        "from oauth2client.client import GoogleCredentials\n",
        "# Authenticate and create the PyDrive client.\n",
        "auth.authenticate_user()\n",
        "gauth = GoogleAuth()\n",
        "gauth.credentials = GoogleCredentials.get_application_default()\n",
        "drive = GoogleDrive(gauth)"
      ],
      "id": "OwXinMfMZJt7"
    },
    {
      "cell_type": "code",
      "execution_count": null,
      "metadata": {
        "id": "BQUji0y2Y_ji"
      },
      "outputs": [],
      "source": [
        "link=\"https://drive.google.com/file/d/1dhWpdeVgKuWACcBtGY8mk_Pq3_4bOyJb/view?usp=sharing\"\n",
        "id=\"1dhWpdeVgKuWACcBtGY8mk_Pq3_4bOyJb\"\n",
        "link_places=\"https://drive.google.com/file/d/1Jpsa7goEcEbw6ihIrnXLPUSj7Mp9fLP0/view?usp=sharing\"\n",
        "id_places=\"1Jpsa7goEcEbw6ihIrnXLPUSj7Mp9fLP0\"\n",
        "link_weather=\"https://drive.google.com/file/d/15LTgS1LC45CkAf_vfHBhqnePUJTpO7-0/view?usp=sharing\"\n",
        "id_weather=\"15LTgS1LC45CkAf_vfHBhqnePUJTpO7-0\""
      ],
      "id": "BQUji0y2Y_ji"
    },
    {
      "cell_type": "code",
      "execution_count": null,
      "metadata": {
        "id": "FMR1NrE2ZMi6"
      },
      "outputs": [],
      "source": [
        "downloaded = drive.CreateFile({'id':id}) \n",
        "downloaded.GetContentFile('AllTrails.csv')  "
      ],
      "id": "FMR1NrE2ZMi6"
    },
    {
      "cell_type": "code",
      "execution_count": null,
      "metadata": {
        "id": "6zTZ6RveC8rS"
      },
      "outputs": [],
      "source": [
        "download_places = drive.CreateFile({'id':id_places}) \n",
        "download_places.GetContentFile('places_data.csv') "
      ],
      "id": "6zTZ6RveC8rS"
    },
    {
      "cell_type": "code",
      "source": [
        "download_weather = drive.CreateFile({'id':id_weather}) \n",
        "download_weather.GetContentFile('weather.csv') "
      ],
      "metadata": {
        "id": "KgaXpCOuqiS5"
      },
      "id": "KgaXpCOuqiS5",
      "execution_count": null,
      "outputs": []
    },
    {
      "cell_type": "code",
      "execution_count": null,
      "metadata": {
        "id": "b9625da6"
      },
      "outputs": [],
      "source": [
        "all_trails= pd.read_csv('AllTrails.csv')\n",
        "all_trails.head()"
      ],
      "id": "b9625da6"
    },
    {
      "cell_type": "code",
      "execution_count": null,
      "metadata": {
        "id": "WqFi11JcDG5G"
      },
      "outputs": [],
      "source": [
        "places= pd.read_csv('places_data.csv')\n",
        "places.head()"
      ],
      "id": "WqFi11JcDG5G"
    },
    {
      "cell_type": "code",
      "execution_count": null,
      "metadata": {
        "id": "66a368e4"
      },
      "outputs": [],
      "source": [
        "all_trails.info()"
      ],
      "id": "66a368e4"
    },
    {
      "cell_type": "markdown",
      "metadata": {
        "id": "5_2HkKDOds3S"
      },
      "source": [
        "## ADDING RELEVANT FEATURES IN THE DATA"
      ],
      "id": "5_2HkKDOds3S"
    },
    {
      "cell_type": "markdown",
      "metadata": {
        "id": "NF53MTg1d0nA"
      },
      "source": [
        "**BREAKING THE GEOLOCATION INTO LATITUDE AND LONGITUTE THAT IS USEFUL FOR ANALYSIS**"
      ],
      "id": "NF53MTg1d0nA"
    },
    {
      "cell_type": "code",
      "execution_count": null,
      "metadata": {
        "id": "K-OcOnNInAgi"
      },
      "outputs": [],
      "source": [
        "#We need latitude and londitude columns for geolocation analysis\n",
        "all_trails[['lat','lng']] = all_trails['_geoloc'].apply(lambda x: pd.Series(str(x).split(\",\")))\n",
        "all_trails['lat'] = all_trails['lat'].apply(lambda x: (x.split(':')[1].split()[-1])).astype(float)\n",
        "all_trails['lng'] = all_trails['lng'].apply(lambda x: (x.split(':')[1].split()[-1][:-1])).astype(float)"
      ],
      "id": "K-OcOnNInAgi"
    },
    {
      "cell_type": "markdown",
      "metadata": {
        "id": "l7xKIgMimvIv"
      },
      "source": [
        "\n",
        "**ADDING CAMPGROUND DATA & REVIEWS**\n",
        "\n",
        "\n",
        "\n",
        "\n",
        "\n"
      ],
      "id": "l7xKIgMimvIv"
    },
    {
      "cell_type": "markdown",
      "metadata": {
        "id": "EklTod7Bm4rY"
      },
      "source": [
        "To add the campground & reviews data, we need to access to the geolocation of all trails in the data set 'all_trails'. Please refer to the notebook https://colab.research.google.com/drive/1TUDmbXETWNweGJGhRlliIAe1X9g4Hfmh?usp=sharing which covers the code to extract the information of each geolocation."
      ],
      "id": "EklTod7Bm4rY"
    },
    {
      "cell_type": "code",
      "execution_count": null,
      "metadata": {
        "id": "SC0QoJ3pnHW6"
      },
      "outputs": [],
      "source": [
        "#Creating temporary column 'Id_loc' which is useful in joining the campground data and reviews with the original dataset\n",
        "all_trails['Id_loc'] = all_trails.lat.astype(str).str.cat(all_trails.lng.astype(str), sep=',')"
      ],
      "id": "SC0QoJ3pnHW6"
    },
    {
      "cell_type": "markdown",
      "metadata": {
        "id": "6l9ugBEkea8A"
      },
      "source": [
        "We have saved the information of campgrounds and reviews in a CSV which we imported in the commands above. Now we will be using that CSV to merge the data with all_trails DF. \n",
        "\n",
        "Note: We can't run the google places API in realtime, as it is costly. We are storing the data, after running it for the first time."
      ],
      "id": "6l9ugBEkea8A"
    },
    {
      "cell_type": "code",
      "execution_count": null,
      "metadata": {
        "id": "RLSgRrQxrBNg"
      },
      "outputs": [],
      "source": [
        "# Profiling the obtained data\n",
        "df_orig=places\n",
        "print(df_orig.info())\n",
        "print(len(df_orig))\n",
        "df_orig.head()"
      ],
      "id": "RLSgRrQxrBNg"
    },
    {
      "cell_type": "markdown",
      "metadata": {
        "id": "v0u_gFTiriWp"
      },
      "source": [
        "To merge the obtained data set with the 'all_trails' data set we need to do some data cleaning first."
      ],
      "id": "v0u_gFTiriWp"
    },
    {
      "cell_type": "code",
      "execution_count": null,
      "metadata": {
        "id": "hU0BrSgysGaD"
      },
      "outputs": [],
      "source": [
        "print(df_orig.Time.drop_duplicates())"
      ],
      "id": "hU0BrSgysGaD"
    },
    {
      "cell_type": "code",
      "execution_count": null,
      "metadata": {
        "id": "1O2cZx-qsOox"
      },
      "outputs": [],
      "source": [
        "# Convert column Time from text to number of months\n",
        "replace_values = {'a month ago': 1, '6 months ago': 6, '7 months ago':7, '8 months ago':8, 'a year ago':12, '10 months ago':10, '5 months ago':5, '4 months ago':4, '2 years ago':24, '4 years ago':48, '11 months ago':11, '2 months ago':2, '3 months ago':3, 'in the last week':0, '3 years ago':36, '2 weeks ago':0.5, 'a week ago':0.25, '9 months ago':9, '3 weeks ago':0.75, '4 weeks ago':4, '6 years ago':72, '5 years ago':60, '8 years ago':96, '7 years ago':84, '9 years ago':108, '12 months ago':12, '10 years ago':120}\n",
        "df = df_orig.replace({'Time': replace_values})"
      ],
      "id": "1O2cZx-qsOox"
    },
    {
      "cell_type": "code",
      "execution_count": null,
      "metadata": {
        "id": "Ub-jJzJas2mS"
      },
      "outputs": [],
      "source": [
        "#Group rows by Campground to get the average rating and the average number of months since the last review.\n",
        "df_1 = df.groupby(['Id_loc','Name','Website', 'Address', 'Phone_number']).Rating.mean().reset_index()\n",
        "df_2 = df.groupby(['Id_loc','Name','Website', 'Address', 'Phone_number']).Time.mean().reset_index()\n",
        "df_1[\"Avg_Time_months\"]= df_2.Time\n",
        "df_campground = df_1\n",
        "df_campground"
      ],
      "id": "Ub-jJzJas2mS"
    },
    {
      "cell_type": "code",
      "execution_count": null,
      "metadata": {
        "id": "ja0CjcBfsVSa"
      },
      "outputs": [],
      "source": [
        "#Group rows by location ('Id_loc') to get number of campgrounds around, the average rating of them and the average number of months since the last review.\n",
        "df_3 = df_campground.groupby('Id_loc').Name.count().reset_index()\n",
        "df_4 = df_campground.groupby('Id_loc').Rating.mean().reset_index()\n",
        "df_5 = df_campground.groupby('Id_loc').Avg_Time_months.mean().reset_index()\n",
        "df_3['Rating'] = df_4.Rating\n",
        "df_3=df_3.rename(columns={\"Name\":\"Number_of_Campgrounds\"})\n",
        "df_reviews = df_3\n",
        "df_reviews"
      ],
      "id": "ja0CjcBfsVSa"
    },
    {
      "cell_type": "markdown",
      "metadata": {
        "id": "v3ktePjqumWe"
      },
      "source": [
        "To merge the obtained data set 'df_reviews' with our initial 'all_trails' data set we use 'Id_loc' as key. We have ensured to do a left join as there might be a few trails for which no campground information or reviews might be present."
      ],
      "id": "v3ktePjqumWe"
    },
    {
      "cell_type": "code",
      "execution_count": null,
      "metadata": {
        "id": "L_vNDWwB7x0I"
      },
      "outputs": [],
      "source": [
        "all_trails = pd.merge(all_trails, df_reviews, on ='Id_loc', how =\"left\")"
      ],
      "id": "L_vNDWwB7x0I"
    },
    {
      "cell_type": "markdown",
      "metadata": {
        "id": "Yo3bGj_hfEdf"
      },
      "source": [
        "As the merge operation gets completed, we drop the column Id_loc as it is no more needed."
      ],
      "id": "Yo3bGj_hfEdf"
    },
    {
      "cell_type": "code",
      "execution_count": null,
      "metadata": {
        "id": "cdcuK3Zk817N"
      },
      "outputs": [],
      "source": [
        "all_trails=all_trails.drop('Id_loc',axis=1)\n",
        "all_trails"
      ],
      "id": "cdcuK3Zk817N"
    },
    {
      "cell_type": "markdown",
      "metadata": {
        "id": "Qo_FzSS2mzeM"
      },
      "source": [
        "**ADDING WEATHER DATA**\n",
        "We have extracted the data using the weather API to add the weather information. This information was saved to a CSV for exploratory purposes"
      ],
      "id": "Qo_FzSS2mzeM"
    },
    {
      "cell_type": "code",
      "execution_count": null,
      "metadata": {
        "id": "ZVXItdKAbK-Y"
      },
      "outputs": [],
      "source": [
        "#Obtain the current weather at set latitude and longitude locations\n",
        "import requests\n",
        "import ast\n",
        "from tkinter import *\n",
        "import math\n",
        "from datetime import date\n",
        "w = pd.read_csv('weather.csv', index_col=0)\n",
        "\n",
        "\n",
        "weather_features = ['temp_c', 'condition', 'wind_kph', 'pressure_mb', 'precip_mm', 'humidity', 'cloud', 'feelslike_c', 'vis_km', 'uv', 'gust_kph']\n",
        "all_trails[weather_features] = ''\n",
        "\n",
        "for j in weather_features:\n",
        "    for i in range(len(all_trails)):\n",
        "        if j == 'condition':\n",
        "            all_trails[j][i] = ast.literal_eval(w['current'][i])[j]['text']\n",
        "        else:\n",
        "            all_trails[j][i]  = ast.literal_eval(w['current'][i])[j]"
      ],
      "id": "ZVXItdKAbK-Y"
    },
    {
      "cell_type": "code",
      "source": [
        "all_trails"
      ],
      "metadata": {
        "id": "YpdQCjZgxSXy"
      },
      "id": "YpdQCjZgxSXy",
      "execution_count": null,
      "outputs": []
    },
    {
      "cell_type": "markdown",
      "metadata": {
        "id": "orbrfpfefoe6"
      },
      "source": [
        "**CONVERTING DIFFICULTY INTO READABLE FORMAT**"
      ],
      "id": "orbrfpfefoe6"
    },
    {
      "cell_type": "code",
      "execution_count": null,
      "metadata": {
        "id": "949e8e00"
      },
      "outputs": [],
      "source": [
        "#Create difficulty_rating definition\n",
        "def definition(difficulty_rate):\n",
        "    '''To clarify trail's difficulty rating \n",
        "    >>>Input: -> Output\n",
        "    1 -> easy\n",
        "    3-> moderate\n",
        "    5 -> hard\n",
        "    7 -> strenous\n",
        "    '''\n",
        "    if difficulty_rate == 1:\n",
        "        return 'easy'\n",
        "    elif difficulty_rate == 3:\n",
        "        return 'moderate'\n",
        "    elif difficulty_rate == 5:\n",
        "        return 'hard'\n",
        "    else:\n",
        "        return 'strenous'\n",
        "all_trails['difficulty'] = all_trails.apply(lambda x: definition(difficulty_rate = x['difficulty_rating']), axis = 1)"
      ],
      "id": "949e8e00"
    },
    {
      "cell_type": "markdown",
      "metadata": {
        "id": "nbEAJb396Z6B"
      },
      "source": [
        "**CORRECTING THE COUNTRY NAMES OF TRAILS IN HAWAII**\n",
        "The data has some issues regarding the country name with reference to Hawaii. We have correcetd that manually."
      ],
      "id": "nbEAJb396Z6B"
    },
    {
      "cell_type": "code",
      "execution_count": null,
      "metadata": {
        "id": "3c2e6bdf"
      },
      "outputs": [],
      "source": [
        "all_trails['country_name'] = all_trails['country_name'].apply(lambda x: x.replace(\"Hawaii\", \"United States\"))\n",
        "all_trails['state_name'] = all_trails['state_name'].apply(lambda x: x.replace(\"Maui\", \"Hawaii\"))"
      ],
      "id": "3c2e6bdf"
    },
    {
      "cell_type": "markdown",
      "metadata": {
        "id": "wD_0Mu3VgJte"
      },
      "source": [
        "**DISTANCE IN MULTIPLE UNITS**\n",
        "\n",
        "As we might need the distance of each trail in multiple units, while building business insights, we convert it to inches and miles."
      ],
      "id": "wD_0Mu3VgJte"
    },
    {
      "cell_type": "code",
      "execution_count": null,
      "metadata": {
        "id": "262de3b7"
      },
      "outputs": [],
      "source": [
        "# A function to convert the distance to inches\n",
        "def convert (units, length):\n",
        "    \"\"\" Convert meters to inches\n",
        "        Input: 1 meter\n",
        "        Output: 39.3701 inches\n",
        "    \"\"\"\n",
        "    if units == 'm':\n",
        "        return length * 39.3701\n",
        "    else:\n",
        "        return length\n",
        "# A function to convert the distance to miles\n",
        "def convert_to_miles (units, length):\n",
        "    \"\"\" Convert meters to inches\n",
        "        Input: 1 meter\n",
        "        Output: 0.000621371 miles\n",
        "    \"\"\"\n",
        "    if units == 'm':\n",
        "        return length * 0.000621371\n",
        "    elif units == 'i':\n",
        "        return length * 1.57828e-5\n",
        "    else:\n",
        "        return length\n",
        "#Create new length column\n",
        "all_trails['length_inches'] = all_trails.apply(lambda x: convert(units = x['units'], length = x['length']), axis = 1)\n",
        "all_trails['length_miles'] = all_trails.apply(lambda x: convert_to_miles(units = x['units'], length = x['length']), axis = 1)"
      ],
      "id": "262de3b7"
    },
    {
      "cell_type": "markdown",
      "metadata": {
        "id": "34b9c020"
      },
      "source": [
        "**ADDING COLUMNS CORRESPONDING TO THE FEATURES AND ACTIVITIES OF EACH TRAIL**\n",
        "\n",
        "1. Adding total counts of features and activities present in each trail\n",
        "2. Converting all the activities and features into categorical features. "
      ],
      "id": "34b9c020"
    },
    {
      "cell_type": "code",
      "execution_count": null,
      "metadata": {
        "id": "495aa988"
      },
      "outputs": [],
      "source": [
        "all_trails['features_count'] = all_trails['features'].apply(lambda x: len(x.split(',')))\n",
        "all_trails['activities_count'] = all_trails['activities'].apply(lambda x: len(x.split(',')))"
      ],
      "id": "495aa988"
    },
    {
      "cell_type": "code",
      "execution_count": null,
      "metadata": {
        "id": "--OuKxogtgqR"
      },
      "outputs": [],
      "source": [
        "#generate list of unique features\n",
        "list_of_features=[]\n",
        "for feat in all_trails['features']:\n",
        "  mp=str(feat)\n",
        "  mp=mp.strip()\n",
        "  mp=mp.replace('[','')\n",
        "  mp=mp.replace(']','')\n",
        "  mp=mp.replace(\"'\",'')\n",
        "  mp=mp.replace(' ','')\n",
        "  li=list(mp.split(','))\n",
        "  for k in li:\n",
        "    if k not in list_of_features:\n",
        "      list_of_features.append(k)\n",
        "print(list_of_features)"
      ],
      "id": "--OuKxogtgqR"
    },
    {
      "cell_type": "code",
      "execution_count": null,
      "metadata": {
        "id": "zJLmbFROw8uD"
      },
      "outputs": [],
      "source": [
        "#generate list of unique activities\n",
        "list_of_activities=[]\n",
        "for act in all_trails['activities']:\n",
        "  mp=str(act)\n",
        "  mp=mp.replace('[','')\n",
        "  mp=mp.replace(']','')\n",
        "  mp=mp.replace(\"'\",'')\n",
        "  mp=mp.replace(' ','')\n",
        "  li=list(mp.split(','))\n",
        "  for k in li:\n",
        "    if k not in list_of_activities:\n",
        "      list_of_activities.append(k)\n",
        "print(list_of_activities)"
      ],
      "id": "zJLmbFROw8uD"
    },
    {
      "cell_type": "code",
      "execution_count": null,
      "metadata": {
        "id": "XAmS6aSGyo0x"
      },
      "outputs": [],
      "source": [
        "#Based on the features and activities present for each trail, we update the categorical variable\n",
        "for ind,row in all_trails.iterrows():\n",
        "  mp=str(row['features'])\n",
        "  mp=mp.replace('[','')\n",
        "  mp=mp.replace(']','')\n",
        "  mp=mp.replace(\"'\",'')\n",
        "  mp=mp.replace(' ','')\n",
        "  li=list(mp.split(','))\n",
        "  #print(li)\n",
        "  for feat in list_of_features:\n",
        "    if feat in li:\n",
        "      all_trails.at[ind,'feature_'+feat]=1\n",
        "    else:\n",
        "      all_trails.at[ind,'feature_'+feat]=0\n",
        "    #print(row['feature_'+feat])\n",
        "  mp=str(row['activities'])\n",
        "  mp=mp.replace('[','')\n",
        "  mp=mp.replace(']','')\n",
        "  mp=mp.replace(\"'\",'')\n",
        "  mp=mp.replace(' ','')\n",
        "  li=list(mp.split(','))\n",
        "  #print(li)\n",
        "  for feat in list_of_activities:\n",
        "    if feat in li:\n",
        "      all_trails.at[ind,'activity_'+feat]=1\n",
        "    else:\n",
        "      all_trails.at[ind,'activity_'+feat]=0\n"
      ],
      "id": "XAmS6aSGyo0x"
    },
    {
      "cell_type": "code",
      "execution_count": null,
      "metadata": {
        "id": "kaYxhqT05hD7"
      },
      "outputs": [],
      "source": [
        "all_trails"
      ],
      "id": "kaYxhqT05hD7"
    },
    {
      "cell_type": "markdown",
      "metadata": {
        "id": "1M8jI2oL9ZLn"
      },
      "source": [
        "We are dropping geolocation because it is already divided into latitude and longitude. We are dropping visitor usage as we are not sure what it is used for."
      ],
      "id": "1M8jI2oL9ZLn"
    },
    {
      "cell_type": "code",
      "execution_count": null,
      "metadata": {
        "id": "7415bd9d"
      },
      "outputs": [],
      "source": [
        "#remove geoloc variables\n",
        "all_trails.drop(['_geoloc'],axis = 1, inplace = True)\n",
        "all_trails.drop(['visitor_usage'],axis = 1, inplace = True)\n",
        "\n",
        "#Review and check the dataset\n",
        "all_trails.isnull().sum()"
      ],
      "id": "7415bd9d"
    },
    {
      "cell_type": "code",
      "source": [
        "#from google.colab import drive\n",
        "#drive.mount('drive')"
      ],
      "metadata": {
        "id": "8bmdymd9_End"
      },
      "id": "8bmdymd9_End",
      "execution_count": null,
      "outputs": []
    },
    {
      "cell_type": "code",
      "source": [
        "#all_trails.to_csv('feature_data_allTrails.csv')\n",
        "#!cp feature_data_allTrails.csv \"drive/MyDrive/243/Data/\""
      ],
      "metadata": {
        "id": "vweSax0__Tyy"
      },
      "id": "vweSax0__Tyy",
      "execution_count": null,
      "outputs": []
    },
    {
      "cell_type": "markdown",
      "metadata": {
        "id": "9e96dd7c"
      },
      "source": [
        "**EXPLORATORY DATA ANALYSIS (EDA)**"
      ],
      "id": "9e96dd7c"
    },
    {
      "cell_type": "markdown",
      "metadata": {
        "id": "45Vw9gVNhPoZ"
      },
      "source": [
        "Building some general grapghs to have a look and feel of the data in general"
      ],
      "id": "45Vw9gVNhPoZ"
    },
    {
      "cell_type": "code",
      "execution_count": null,
      "metadata": {
        "id": "5e2f5b04"
      },
      "outputs": [],
      "source": [
        "all_trails.describe().T"
      ],
      "id": "5e2f5b04"
    },
    {
      "cell_type": "markdown",
      "source": [
        "**EXPLAINATION OF VARIABLES IN THE DATA**\n",
        "The information of the features is maintained at https://docs.google.com/spreadsheets/d/1NAlbgAjMXVL7KwVAERaCoqXXx8pq3Ihs9hH5pbWq0OE/edit?usp=sharing"
      ],
      "metadata": {
        "id": "Fle1Ug2TwPVl"
      },
      "id": "Fle1Ug2TwPVl"
    },
    {
      "cell_type": "code",
      "source": [
        "all_trails.columns"
      ],
      "metadata": {
        "id": "LSXTZfJZwXNz"
      },
      "id": "LSXTZfJZwXNz",
      "execution_count": null,
      "outputs": []
    },
    {
      "cell_type": "code",
      "execution_count": null,
      "metadata": {
        "id": "5nq-9xxiGyDm"
      },
      "outputs": [],
      "source": [
        "#For the heatmap, we are reducing the number of features to find the correlation between relevant features\n",
        "analysis_df=all_trails[['trail_id','name','area_name','city_name','state_name','country_name','popularity',\n",
        "                        'length','elevation_gain','difficulty_rating','route_type','avg_rating','num_reviews','Rating','Number_of_Campgrounds',\n",
        "                        'lat','lng','temp_c','feelslike_c','humidity']]\n",
        "analysis_df"
      ],
      "id": "5nq-9xxiGyDm"
    },
    {
      "cell_type": "code",
      "execution_count": null,
      "metadata": {
        "id": "a38d79c2"
      },
      "outputs": [],
      "source": [
        "#creating plots on dataset\n",
        "# Each attribution Histagram \n",
        "analysis_df.hist(bins=30,figsize=(20,15))\n",
        "plt.show()"
      ],
      "id": "a38d79c2"
    },
    {
      "cell_type": "code",
      "source": [
        "all_trails"
      ],
      "metadata": {
        "id": "kXdH05Gn5lws"
      },
      "id": "kXdH05Gn5lws",
      "execution_count": null,
      "outputs": []
    },
    {
      "cell_type": "code",
      "execution_count": null,
      "metadata": {
        "id": "6c30e374"
      },
      "outputs": [],
      "source": [
        "#Heamp map on correlation - check all the variables linearly related\n",
        "corr = analysis_df.corr().round(2)\n",
        "sns.set(rc={\"figure.figsize\":(12,8)})\n",
        "heatmap = sns.heatmap(corr, annot = True, vmin=-1, vmax=1, center= 0, cmap=sns.diverging_palette(20, 220, n=200),linewidths=.5)\n",
        "plt.show()"
      ],
      "id": "6c30e374"
    },
    {
      "cell_type": "markdown",
      "metadata": {
        "id": "ecda953c"
      },
      "source": [
        "**We find that the number of reviews, average rating, and features count is positively correlated to popularity from the correlation heat map.**|\n",
        "\n"
      ],
      "id": "ecda953c"
    },
    {
      "cell_type": "markdown",
      "metadata": {
        "id": "a3ca3b0f"
      },
      "source": [
        "1) Number of Trails in the National Parks by States"
      ],
      "id": "a3ca3b0f"
    },
    {
      "cell_type": "code",
      "execution_count": null,
      "metadata": {
        "id": "2138739e"
      },
      "outputs": [],
      "source": [
        "# States count\n",
        "all_trails['state_name'].unique()\n",
        "#Total summary of trails by state\n",
        "Total_count = all_trails[['trail_id','state_name','route_type']].groupby(['state_name', 'route_type']).count().reset_index()\n",
        "Total_count"
      ],
      "id": "2138739e"
    },
    {
      "cell_type": "code",
      "execution_count": null,
      "metadata": {
        "id": "S3uzZYz3XVxp"
      },
      "outputs": [],
      "source": [
        "\n",
        "#Bar Chart of total summary of trails by state\n",
        "fig_sumtrails_group= px.bar(Total_count, x= 'state_name', y='trail_id', text= 'trail_id', color = 'route_type', title = 'Total Trails count by States')\n",
        "HTML(fig_sumtrails_group.to_html())"
      ],
      "id": "S3uzZYz3XVxp"
    },
    {
      "cell_type": "markdown",
      "metadata": {
        "id": "12bd4392"
      },
      "source": [
        "Top 10 trails in National Parks by number of reviews "
      ],
      "id": "12bd4392"
    },
    {
      "cell_type": "code",
      "execution_count": null,
      "metadata": {
        "id": "30f0547b"
      },
      "outputs": [],
      "source": [
        "#Top N function\n",
        "def top(df, n, column):\n",
        "    \"\"\" return top N  records\"\"\"\n",
        "    return df.sort_values(by=column)[-n:]"
      ],
      "id": "30f0547b"
    },
    {
      "cell_type": "code",
      "execution_count": null,
      "metadata": {
        "id": "90ea4220"
      },
      "outputs": [],
      "source": [
        "#New data frame\n",
        "NO_reviews = all_trails[['area_name','name','route_type','num_reviews','popularity']]\n",
        "# Top 10 Number of Reviews of National Parks and trails\n",
        "Top_10_NP = top(NO_reviews, n=10, column = 'num_reviews').sort_values(by = 'num_reviews', ascending=True)\n",
        "Top_10_NP"
      ],
      "id": "90ea4220"
    },
    {
      "cell_type": "markdown",
      "metadata": {
        "id": "TBQh7yiVh8ox"
      },
      "source": [
        "Top 10 populiar trails in National Parks by number of trails"
      ],
      "id": "TBQh7yiVh8ox"
    },
    {
      "cell_type": "code",
      "execution_count": null,
      "metadata": {
        "id": "eca4f44b"
      },
      "outputs": [],
      "source": [
        "#Top Trials by number of reviews\n",
        "fig = px.bar(Top_10_NP, x=\"name\", y=\"num_reviews\", text = 'num_reviews',color=\"route_type\",title=\"Top 10 Trails in National Parks by Number of Reviews\",\n",
        "            labels={\n",
        "                     \"name\": \"Trail Name\",\n",
        "                     \"num_reviews\": \"Number of Reviews\",\n",
        "                     \"route_type\": \"Route Type\"\n",
        "                 },)\n",
        "fig.update_layout(xaxis={'categoryorder':'total descending'})\n",
        "fig.update_traces(texttemplate='%{text:.2s}', textposition='outside')\n",
        "#fig.show()\n",
        "HTML(fig.to_html())"
      ],
      "id": "eca4f44b"
    },
    {
      "cell_type": "code",
      "execution_count": null,
      "metadata": {
        "id": "64f5b035"
      },
      "outputs": [],
      "source": [
        "#Top 10 Activities for all the trails\n",
        "mega_act_list = []\n",
        "\n",
        "for index, row in all_trails.iterrows():\n",
        "    for item in ast.literal_eval(row['activities']):\n",
        "        mega_act_list.append(item)\n",
        "        \n",
        "#print(mega_act_list)\n",
        "mega_act_df = pd.DataFrame(mega_act_list, columns = [\"activity\"])\n",
        "#print(mega_act_df)\n",
        "\n",
        "act_count = mega_act_df.groupby(\"activity\")[\"activity\"].agg(Total = 'count')"
      ],
      "id": "64f5b035"
    },
    {
      "cell_type": "code",
      "execution_count": null,
      "metadata": {
        "id": "90cdc4f6"
      },
      "outputs": [],
      "source": [
        "#Top 10 Activities of trails\n",
        "Top_10_activities = top(act_count, n=10, column = 'Total').sort_values(by = 'Total', ascending=False)\n",
        "Top_10_activities"
      ],
      "id": "90cdc4f6"
    },
    {
      "cell_type": "markdown",
      "metadata": {
        "id": "ac93246b"
      },
      "source": [
        "**Hiking, Nature-trips, and birding are frequently show on the trails' activity**"
      ],
      "id": "ac93246b"
    },
    {
      "cell_type": "code",
      "execution_count": null,
      "metadata": {
        "id": "3cb72cb6"
      },
      "outputs": [],
      "source": [
        "#Top 10 feeatures for all the trails\n",
        "#Features of trails Calulation \n",
        "mega_feat_list = []\n",
        "\n",
        "for index, row in all_trails.iterrows():\n",
        "    for item in ast.literal_eval(row['features']):\n",
        "        mega_feat_list.append(item)\n",
        "\n",
        "mega_feat_df = pd.DataFrame(mega_feat_list, columns = [\"features\"])\n",
        "#print(mega_act_df)\n",
        "\n",
        "feat_count = mega_feat_df.groupby(\"features\")[\"features\"].agg(Total = 'count')"
      ],
      "id": "3cb72cb6"
    },
    {
      "cell_type": "code",
      "execution_count": null,
      "metadata": {
        "id": "94cb85cd"
      },
      "outputs": [],
      "source": [
        "#Top 10 Features for trails\n",
        "Top_10_features = top(feat_count, n=10, column = 'Total').sort_values(by = 'Total', ascending=False)\n",
        "Top_10_features"
      ],
      "id": "94cb85cd"
    },
    {
      "cell_type": "code",
      "execution_count": null,
      "metadata": {
        "id": "RHumNxOMXe_g"
      },
      "outputs": [],
      "source": [
        "fig1 = px.scatter_mapbox(all_trails,\n",
        "                        lat=\"lat\",\n",
        "                        lon=\"lng\",\n",
        "                        hover_name=\"name\",\n",
        "                        hover_data=[\"popularity\"],\n",
        "                        color=\"difficulty_rating\",\n",
        "                        zoom=3,\n",
        "                        height=600,\n",
        "                        size=\"popularity\",\n",
        "                        size_max=30,\n",
        "                        opacity=0.4,\n",
        "                        width=1300,\n",
        "                        color_continuous_scale='Geyser',\n",
        "                        title=\"Trails in the US by popularity and difficulty\")\n",
        "fig1.update_layout(mapbox_style='carto-positron')\n",
        "fig1.update_layout(geo_scope='usa')\n",
        "fig1.update_layout(margin={\"r\": 0, \"t\": 0, \"l\": 0, \"b\": 0})\n",
        "fig1.update_layout(title_text=\"Plots of trails across US by popularity and difficulty\")\n",
        "HTML(fig1.to_html())\n",
        "#fig1.show()"
      ],
      "id": "RHumNxOMXe_g"
    },
    {
      "cell_type": "markdown",
      "source": [
        "The visual above shows the trails located across the US with the size of the visual representing the popularity of the trail and the color of the point displaying the difficulty rating of that trail based on the scale shown to the right. "
      ],
      "metadata": {
        "id": "g4U83XNuOCSL"
      },
      "id": "g4U83XNuOCSL"
    },
    {
      "cell_type": "code",
      "execution_count": null,
      "metadata": {
        "id": "Svuyo9ZhQZEL"
      },
      "outputs": [],
      "source": [
        "fig2 = px.scatter_mapbox(all_trails,\n",
        "                        lat=\"lat\",\n",
        "                        lon=\"lng\",\n",
        "                        hover_name=\"name\",\n",
        "                        hover_data=[\"elevation_gain\"],\n",
        "                        color=\"elevation_gain\",\n",
        "                        zoom=3,\n",
        "                        height=600,\n",
        "                        size=\"length\",\n",
        "                        size_max=30,\n",
        "                        opacity=0.4,\n",
        "                        width=1300,\n",
        "                        color_continuous_scale='Plasma',\n",
        "                        title=\"Trails in the US by popularity and difficulty\")\n",
        "fig2.update_layout(mapbox_style='stamen-terrain')\n",
        "fig2.update_layout(geo_scope='usa')\n",
        "fig2.update_layout(margin={\"r\": 0, \"t\": 0, \"l\": 0, \"b\": 0})\n",
        "fig2.update_layout(title_text=\"Plots of trails across US by popularity and difficulty\")\n",
        "HTML(fig2.to_html())\n",
        "#fig2.show()"
      ],
      "id": "Svuyo9ZhQZEL"
    },
    {
      "cell_type": "markdown",
      "source": [
        "The visual above shows the trails located across the US with the size of the visual representing the lenght of the trail and the color of the point displaying the elevation of that trail based on the scale shown to the right. "
      ],
      "metadata": {
        "id": "1Qort3NAOMuh"
      },
      "id": "1Qort3NAOMuh"
    },
    {
      "cell_type": "code",
      "execution_count": null,
      "metadata": {
        "id": "2PQ2fRCudaOz"
      },
      "outputs": [],
      "source": [
        "all_trails_score_weather = pd.DataFrame(all_trails[['trail_id', 'name', 'temp_c', 'wind_kph', 'humidity', 'gust_kph']].copy())\n",
        "all_trails_score_weather['score'] = ''\n",
        "\n",
        "for i in range(len(all_trails)):\n",
        "  x=0\n",
        "  if all_trails_score_weather['temp_c'][i] > 15:\n",
        "    if all_trails_score_weather['temp_c'][i] < 30:\n",
        "      x= x+1\n",
        "  if all_trails_score_weather['wind_kph'][i] < 10:\n",
        "    x= x+1\n",
        "  if all_trails_score_weather['humidity'][i] > 30:\n",
        "    if all_trails_score_weather['temp_c'][i] < 50:\n",
        "      x= x+1\n",
        "  if all_trails_score_weather['gust_kph'][i] < 10:\n",
        "    x= x+1\n",
        "  all_trails_score_weather['score'][i] = x\n",
        "\n",
        "sns.countplot(x = all_trails_score_weather['score']);\n",
        "display(all_trails_score_weather[all_trails_score_weather['score']==4]['name'])"
      ],
      "id": "2PQ2fRCudaOz"
    },
    {
      "cell_type": "markdown",
      "source": [
        "**Data Validation**"
      ],
      "metadata": {
        "id": "BTZgm-4zz-wP"
      },
      "id": "BTZgm-4zz-wP"
    },
    {
      "cell_type": "code",
      "source": [
        "#Number of missing values\n",
        "NA = all_trails.isnull().sum()\n",
        "display(NA[NA!=0])\n",
        "display(NA.sum())"
      ],
      "metadata": {
        "id": "l_TzrvW8Fyyd"
      },
      "id": "l_TzrvW8Fyyd",
      "execution_count": null,
      "outputs": []
    },
    {
      "cell_type": "code",
      "source": [
        "Validation_df = all_trails[['popularity', 'length', 'elevation_gain', 'difficulty_rating', 'avg_rating', 'num_reviews']]\n",
        "fig = plt.figure()\n",
        "i=1\n",
        "\n",
        "for factor in Validation_df:\n",
        "  ax = fig.add_subplot(2, 3, i)\n",
        "  fig.set_size_inches(18.5, 10.5)\n",
        "  sns.distplot(Validation_df[factor], ax=ax)\n",
        "  plt.title(f'{factor} distribution')\n",
        "  plt.ylabel('pdf')\n",
        "  i+=1"
      ],
      "metadata": {
        "id": "SKdQVT2i8gVc"
      },
      "id": "SKdQVT2i8gVc",
      "execution_count": null,
      "outputs": []
    },
    {
      "cell_type": "code",
      "source": [
        "all_trails.to_excel('all_trails_data')"
      ],
      "metadata": {
        "id": "MWAkQouPi-Iy"
      },
      "id": "MWAkQouPi-Iy",
      "execution_count": null,
      "outputs": []
    }
  ],
  "metadata": {
    "colab": {
      "collapsed_sections": [],
      "name": "all-trails-in-np-analysis.ipynb",
      "provenance": []
    },
    "kernelspec": {
      "display_name": "Python 3",
      "language": "python",
      "name": "python3"
    },
    "language_info": {
      "codemirror_mode": {
        "name": "ipython",
        "version": 3
      },
      "file_extension": ".py",
      "mimetype": "text/x-python",
      "name": "python",
      "nbconvert_exporter": "python",
      "pygments_lexer": "ipython3",
      "version": "3.7.10"
    },
    "papermill": {
      "default_parameters": {},
      "duration": 25.030305,
      "end_time": "2021-11-17T23:44:34.707404",
      "environment_variables": {},
      "exception": null,
      "input_path": "__notebook__.ipynb",
      "output_path": "__notebook__.ipynb",
      "parameters": {},
      "start_time": "2021-11-17T23:44:09.677099",
      "version": "2.3.3"
    }
  },
  "nbformat": 4,
  "nbformat_minor": 5
}